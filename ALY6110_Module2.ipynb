{
 "cells": [
  {
   "cell_type": "code",
   "execution_count": 247,
   "id": "be96995d",
   "metadata": {},
   "outputs": [
    {
     "name": "stderr",
     "output_type": "stream",
     "text": [
      "[nltk_data] Downloading package stopwords to\n",
      "[nltk_data]     /Users/Nithin/nltk_data...\n",
      "[nltk_data]   Package stopwords is already up-to-date!\n"
     ]
    }
   ],
   "source": [
    "import numpy as np\n",
    "import pandas as pd\n",
    "import json\n",
    "import datetime\n",
    "import time\n",
    "\n",
    "import re\n",
    "import nltk\n",
    "nltk.download('stopwords')  \n",
    "from nltk.corpus import stopwords\n",
    "import string\n",
    "\n",
    "\n",
    "from collections import Counter\n",
    "\n",
    "import seaborn as sns\n",
    "import matplotlib.pyplot as plt\n",
    "from matplotlib.pyplot import figure"
   ]
  },
  {
   "cell_type": "code",
   "execution_count": 248,
   "id": "9c56a7ba",
   "metadata": {},
   "outputs": [],
   "source": [
    "df = pd.read_csv('US_youtube_trending_data.csv')"
   ]
  },
  {
   "cell_type": "code",
   "execution_count": 249,
   "id": "e9964c8c",
   "metadata": {},
   "outputs": [
    {
     "data": {
      "text/html": [
       "<div>\n",
       "<style scoped>\n",
       "    .dataframe tbody tr th:only-of-type {\n",
       "        vertical-align: middle;\n",
       "    }\n",
       "\n",
       "    .dataframe tbody tr th {\n",
       "        vertical-align: top;\n",
       "    }\n",
       "\n",
       "    .dataframe thead th {\n",
       "        text-align: right;\n",
       "    }\n",
       "</style>\n",
       "<table border=\"1\" class=\"dataframe\">\n",
       "  <thead>\n",
       "    <tr style=\"text-align: right;\">\n",
       "      <th></th>\n",
       "      <th>video_id</th>\n",
       "      <th>title</th>\n",
       "      <th>publishedAt</th>\n",
       "      <th>channelId</th>\n",
       "      <th>channelTitle</th>\n",
       "      <th>categoryId</th>\n",
       "      <th>trending_date</th>\n",
       "      <th>tags</th>\n",
       "      <th>view_count</th>\n",
       "      <th>likes</th>\n",
       "      <th>dislikes</th>\n",
       "      <th>comment_count</th>\n",
       "      <th>thumbnail_link</th>\n",
       "      <th>comments_disabled</th>\n",
       "      <th>ratings_disabled</th>\n",
       "      <th>description</th>\n",
       "    </tr>\n",
       "  </thead>\n",
       "  <tbody>\n",
       "    <tr>\n",
       "      <th>0</th>\n",
       "      <td>3C66w5Z0ixs</td>\n",
       "      <td>I ASKED HER TO BE MY GIRLFRIEND...</td>\n",
       "      <td>2020-08-11T19:20:14Z</td>\n",
       "      <td>UCvtRTOMP2TqYqu51xNrqAzg</td>\n",
       "      <td>Brawadis</td>\n",
       "      <td>22</td>\n",
       "      <td>2020-08-12T00:00:00Z</td>\n",
       "      <td>brawadis|prank|basketball|skits|ghost|funny vi...</td>\n",
       "      <td>1514614</td>\n",
       "      <td>156908</td>\n",
       "      <td>5855</td>\n",
       "      <td>35313</td>\n",
       "      <td>https://i.ytimg.com/vi/3C66w5Z0ixs/default.jpg</td>\n",
       "      <td>False</td>\n",
       "      <td>False</td>\n",
       "      <td>SUBSCRIBE to BRAWADIS ▶ http://bit.ly/Subscrib...</td>\n",
       "    </tr>\n",
       "    <tr>\n",
       "      <th>1</th>\n",
       "      <td>M9Pmf9AB4Mo</td>\n",
       "      <td>Apex Legends | Stories from the Outlands – “Th...</td>\n",
       "      <td>2020-08-11T17:00:10Z</td>\n",
       "      <td>UC0ZV6M2THA81QT9hrVWJG3A</td>\n",
       "      <td>Apex Legends</td>\n",
       "      <td>20</td>\n",
       "      <td>2020-08-12T00:00:00Z</td>\n",
       "      <td>Apex Legends|Apex Legends characters|new Apex ...</td>\n",
       "      <td>2381688</td>\n",
       "      <td>146739</td>\n",
       "      <td>2794</td>\n",
       "      <td>16549</td>\n",
       "      <td>https://i.ytimg.com/vi/M9Pmf9AB4Mo/default.jpg</td>\n",
       "      <td>False</td>\n",
       "      <td>False</td>\n",
       "      <td>While running her own modding shop, Ramya Pare...</td>\n",
       "    </tr>\n",
       "    <tr>\n",
       "      <th>2</th>\n",
       "      <td>J78aPJ3VyNs</td>\n",
       "      <td>I left youtube for a month and THIS is what ha...</td>\n",
       "      <td>2020-08-11T16:34:06Z</td>\n",
       "      <td>UCYzPXprvl5Y-Sf0g4vX-m6g</td>\n",
       "      <td>jacksepticeye</td>\n",
       "      <td>24</td>\n",
       "      <td>2020-08-12T00:00:00Z</td>\n",
       "      <td>jacksepticeye|funny|funny meme|memes|jacksepti...</td>\n",
       "      <td>2038853</td>\n",
       "      <td>353787</td>\n",
       "      <td>2628</td>\n",
       "      <td>40221</td>\n",
       "      <td>https://i.ytimg.com/vi/J78aPJ3VyNs/default.jpg</td>\n",
       "      <td>False</td>\n",
       "      <td>False</td>\n",
       "      <td>I left youtube for a month and this is what ha...</td>\n",
       "    </tr>\n",
       "    <tr>\n",
       "      <th>3</th>\n",
       "      <td>kXLn3HkpjaA</td>\n",
       "      <td>XXL 2020 Freshman Class Revealed - Official An...</td>\n",
       "      <td>2020-08-11T16:38:55Z</td>\n",
       "      <td>UCbg_UMjlHJg_19SZckaKajg</td>\n",
       "      <td>XXL</td>\n",
       "      <td>10</td>\n",
       "      <td>2020-08-12T00:00:00Z</td>\n",
       "      <td>xxl freshman|xxl freshmen|2020 xxl freshman|20...</td>\n",
       "      <td>496771</td>\n",
       "      <td>23251</td>\n",
       "      <td>1856</td>\n",
       "      <td>7647</td>\n",
       "      <td>https://i.ytimg.com/vi/kXLn3HkpjaA/default.jpg</td>\n",
       "      <td>False</td>\n",
       "      <td>False</td>\n",
       "      <td>Subscribe to XXL → http://bit.ly/subscribe-xxl...</td>\n",
       "    </tr>\n",
       "    <tr>\n",
       "      <th>4</th>\n",
       "      <td>VIUo6yapDbc</td>\n",
       "      <td>Ultimate DIY Home Movie Theater for The LaBran...</td>\n",
       "      <td>2020-08-11T15:10:05Z</td>\n",
       "      <td>UCDVPcEbVLQgLZX0Rt6jo34A</td>\n",
       "      <td>Mr. Kate</td>\n",
       "      <td>26</td>\n",
       "      <td>2020-08-12T00:00:00Z</td>\n",
       "      <td>The LaBrant Family|DIY|Interior Design|Makeove...</td>\n",
       "      <td>1123889</td>\n",
       "      <td>45802</td>\n",
       "      <td>964</td>\n",
       "      <td>2196</td>\n",
       "      <td>https://i.ytimg.com/vi/VIUo6yapDbc/default.jpg</td>\n",
       "      <td>False</td>\n",
       "      <td>False</td>\n",
       "      <td>Transforming The LaBrant Family's empty white ...</td>\n",
       "    </tr>\n",
       "  </tbody>\n",
       "</table>\n",
       "</div>"
      ],
      "text/plain": [
       "      video_id                                              title  \\\n",
       "0  3C66w5Z0ixs                 I ASKED HER TO BE MY GIRLFRIEND...   \n",
       "1  M9Pmf9AB4Mo  Apex Legends | Stories from the Outlands – “Th...   \n",
       "2  J78aPJ3VyNs  I left youtube for a month and THIS is what ha...   \n",
       "3  kXLn3HkpjaA  XXL 2020 Freshman Class Revealed - Official An...   \n",
       "4  VIUo6yapDbc  Ultimate DIY Home Movie Theater for The LaBran...   \n",
       "\n",
       "            publishedAt                 channelId   channelTitle  categoryId  \\\n",
       "0  2020-08-11T19:20:14Z  UCvtRTOMP2TqYqu51xNrqAzg       Brawadis          22   \n",
       "1  2020-08-11T17:00:10Z  UC0ZV6M2THA81QT9hrVWJG3A   Apex Legends          20   \n",
       "2  2020-08-11T16:34:06Z  UCYzPXprvl5Y-Sf0g4vX-m6g  jacksepticeye          24   \n",
       "3  2020-08-11T16:38:55Z  UCbg_UMjlHJg_19SZckaKajg            XXL          10   \n",
       "4  2020-08-11T15:10:05Z  UCDVPcEbVLQgLZX0Rt6jo34A       Mr. Kate          26   \n",
       "\n",
       "          trending_date                                               tags  \\\n",
       "0  2020-08-12T00:00:00Z  brawadis|prank|basketball|skits|ghost|funny vi...   \n",
       "1  2020-08-12T00:00:00Z  Apex Legends|Apex Legends characters|new Apex ...   \n",
       "2  2020-08-12T00:00:00Z  jacksepticeye|funny|funny meme|memes|jacksepti...   \n",
       "3  2020-08-12T00:00:00Z  xxl freshman|xxl freshmen|2020 xxl freshman|20...   \n",
       "4  2020-08-12T00:00:00Z  The LaBrant Family|DIY|Interior Design|Makeove...   \n",
       "\n",
       "   view_count   likes  dislikes  comment_count  \\\n",
       "0     1514614  156908      5855          35313   \n",
       "1     2381688  146739      2794          16549   \n",
       "2     2038853  353787      2628          40221   \n",
       "3      496771   23251      1856           7647   \n",
       "4     1123889   45802       964           2196   \n",
       "\n",
       "                                   thumbnail_link  comments_disabled  \\\n",
       "0  https://i.ytimg.com/vi/3C66w5Z0ixs/default.jpg              False   \n",
       "1  https://i.ytimg.com/vi/M9Pmf9AB4Mo/default.jpg              False   \n",
       "2  https://i.ytimg.com/vi/J78aPJ3VyNs/default.jpg              False   \n",
       "3  https://i.ytimg.com/vi/kXLn3HkpjaA/default.jpg              False   \n",
       "4  https://i.ytimg.com/vi/VIUo6yapDbc/default.jpg              False   \n",
       "\n",
       "   ratings_disabled                                        description  \n",
       "0             False  SUBSCRIBE to BRAWADIS ▶ http://bit.ly/Subscrib...  \n",
       "1             False  While running her own modding shop, Ramya Pare...  \n",
       "2             False  I left youtube for a month and this is what ha...  \n",
       "3             False  Subscribe to XXL → http://bit.ly/subscribe-xxl...  \n",
       "4             False  Transforming The LaBrant Family's empty white ...  "
      ]
     },
     "execution_count": 249,
     "metadata": {},
     "output_type": "execute_result"
    }
   ],
   "source": [
    "df.head()"
   ]
  },
  {
   "cell_type": "code",
   "execution_count": 250,
   "id": "5187cfa1",
   "metadata": {},
   "outputs": [
    {
     "name": "stdout",
     "output_type": "stream",
     "text": [
      "<class 'pandas.core.frame.DataFrame'>\n",
      "RangeIndex: 268787 entries, 0 to 268786\n",
      "Data columns (total 16 columns):\n",
      " #   Column             Non-Null Count   Dtype \n",
      "---  ------             --------------   ----- \n",
      " 0   video_id           268787 non-null  object\n",
      " 1   title              268787 non-null  object\n",
      " 2   publishedAt        268787 non-null  object\n",
      " 3   channelId          268787 non-null  object\n",
      " 4   channelTitle       268787 non-null  object\n",
      " 5   categoryId         268787 non-null  int64 \n",
      " 6   trending_date      268787 non-null  object\n",
      " 7   tags               268787 non-null  object\n",
      " 8   view_count         268787 non-null  int64 \n",
      " 9   likes              268787 non-null  int64 \n",
      " 10  dislikes           268787 non-null  int64 \n",
      " 11  comment_count      268787 non-null  int64 \n",
      " 12  thumbnail_link     268787 non-null  object\n",
      " 13  comments_disabled  268787 non-null  bool  \n",
      " 14  ratings_disabled   268787 non-null  bool  \n",
      " 15  description        264238 non-null  object\n",
      "dtypes: bool(2), int64(5), object(9)\n",
      "memory usage: 29.2+ MB\n"
     ]
    }
   ],
   "source": [
    "df.info()"
   ]
  },
  {
   "cell_type": "code",
   "execution_count": 251,
   "id": "931f514b",
   "metadata": {},
   "outputs": [],
   "source": [
    "df.drop(columns=['video_id','thumbnail_link'],inplace=True, errors='ignore')"
   ]
  },
  {
   "cell_type": "code",
   "execution_count": 252,
   "id": "6c5c90c6",
   "metadata": {},
   "outputs": [],
   "source": [
    "with open(\"US_category_id.json\") as f:\n",
    "    categoryID = json.load(f)\n",
    "\n",
    "categoryID = categoryID['items']\n",
    "ID_to_Category = {int(item['id']): item['snippet']['title'] for item in categoryID}\n",
    "\n",
    "df['category_title'] = df['categoryId'].map(ID_to_Category)"
   ]
  },
  {
   "cell_type": "code",
   "execution_count": 253,
   "id": "711b39ed",
   "metadata": {},
   "outputs": [
    {
     "data": {
      "text/plain": [
       "{1: 'Film & Animation',\n",
       " 2: 'Autos & Vehicles',\n",
       " 10: 'Music',\n",
       " 15: 'Pets & Animals',\n",
       " 17: 'Sports',\n",
       " 18: 'Short Movies',\n",
       " 19: 'Travel & Events',\n",
       " 20: 'Gaming',\n",
       " 21: 'Videoblogging',\n",
       " 22: 'People & Blogs',\n",
       " 23: 'Comedy',\n",
       " 24: 'Entertainment',\n",
       " 25: 'News & Politics',\n",
       " 26: 'Howto & Style',\n",
       " 27: 'Education',\n",
       " 28: 'Science & Technology',\n",
       " 29: 'Nonprofits & Activism',\n",
       " 30: 'Movies',\n",
       " 31: 'Anime/Animation',\n",
       " 32: 'Action/Adventure',\n",
       " 33: 'Classics',\n",
       " 34: 'Comedy',\n",
       " 35: 'Documentary',\n",
       " 36: 'Drama',\n",
       " 37: 'Family',\n",
       " 38: 'Foreign',\n",
       " 39: 'Horror',\n",
       " 40: 'Sci-Fi/Fantasy',\n",
       " 41: 'Thriller',\n",
       " 42: 'Shorts',\n",
       " 43: 'Shows',\n",
       " 44: 'Trailers'}"
      ]
     },
     "execution_count": 253,
     "metadata": {},
     "output_type": "execute_result"
    }
   ],
   "source": [
    "ID_to_Category"
   ]
  },
  {
   "cell_type": "code",
   "execution_count": 254,
   "id": "652a573d",
   "metadata": {},
   "outputs": [
    {
     "data": {
      "text/plain": [
       "dict_keys([1, 2, 10, 15, 17, 18, 19, 20, 21, 22, 23, 24, 25, 26, 27, 28, 29, 30, 31, 32, 33, 34, 35, 36, 37, 38, 39, 40, 41, 42, 43, 44])"
      ]
     },
     "execution_count": 254,
     "metadata": {},
     "output_type": "execute_result"
    }
   ],
   "source": [
    "ID_to_Category.keys()"
   ]
  },
  {
   "cell_type": "code",
   "execution_count": 255,
   "id": "517a8930",
   "metadata": {},
   "outputs": [
    {
     "data": {
      "text/html": [
       "<div>\n",
       "<style scoped>\n",
       "    .dataframe tbody tr th:only-of-type {\n",
       "        vertical-align: middle;\n",
       "    }\n",
       "\n",
       "    .dataframe tbody tr th {\n",
       "        vertical-align: top;\n",
       "    }\n",
       "\n",
       "    .dataframe thead th {\n",
       "        text-align: right;\n",
       "    }\n",
       "</style>\n",
       "<table border=\"1\" class=\"dataframe\">\n",
       "  <thead>\n",
       "    <tr style=\"text-align: right;\">\n",
       "      <th></th>\n",
       "      <th>title</th>\n",
       "      <th>publishedAt</th>\n",
       "      <th>channelId</th>\n",
       "      <th>channelTitle</th>\n",
       "      <th>categoryId</th>\n",
       "      <th>trending_date</th>\n",
       "      <th>tags</th>\n",
       "      <th>view_count</th>\n",
       "      <th>likes</th>\n",
       "      <th>dislikes</th>\n",
       "      <th>comment_count</th>\n",
       "      <th>comments_disabled</th>\n",
       "      <th>ratings_disabled</th>\n",
       "      <th>description</th>\n",
       "      <th>category_title</th>\n",
       "    </tr>\n",
       "  </thead>\n",
       "  <tbody>\n",
       "    <tr>\n",
       "      <th>0</th>\n",
       "      <td>I ASKED HER TO BE MY GIRLFRIEND...</td>\n",
       "      <td>2020-08-11T19:20:14Z</td>\n",
       "      <td>UCvtRTOMP2TqYqu51xNrqAzg</td>\n",
       "      <td>Brawadis</td>\n",
       "      <td>22</td>\n",
       "      <td>2020-08-12T00:00:00Z</td>\n",
       "      <td>brawadis|prank|basketball|skits|ghost|funny vi...</td>\n",
       "      <td>1514614</td>\n",
       "      <td>156908</td>\n",
       "      <td>5855</td>\n",
       "      <td>35313</td>\n",
       "      <td>False</td>\n",
       "      <td>False</td>\n",
       "      <td>SUBSCRIBE to BRAWADIS ▶ http://bit.ly/Subscrib...</td>\n",
       "      <td>People &amp; Blogs</td>\n",
       "    </tr>\n",
       "    <tr>\n",
       "      <th>1</th>\n",
       "      <td>Apex Legends | Stories from the Outlands – “Th...</td>\n",
       "      <td>2020-08-11T17:00:10Z</td>\n",
       "      <td>UC0ZV6M2THA81QT9hrVWJG3A</td>\n",
       "      <td>Apex Legends</td>\n",
       "      <td>20</td>\n",
       "      <td>2020-08-12T00:00:00Z</td>\n",
       "      <td>Apex Legends|Apex Legends characters|new Apex ...</td>\n",
       "      <td>2381688</td>\n",
       "      <td>146739</td>\n",
       "      <td>2794</td>\n",
       "      <td>16549</td>\n",
       "      <td>False</td>\n",
       "      <td>False</td>\n",
       "      <td>While running her own modding shop, Ramya Pare...</td>\n",
       "      <td>Gaming</td>\n",
       "    </tr>\n",
       "    <tr>\n",
       "      <th>2</th>\n",
       "      <td>I left youtube for a month and THIS is what ha...</td>\n",
       "      <td>2020-08-11T16:34:06Z</td>\n",
       "      <td>UCYzPXprvl5Y-Sf0g4vX-m6g</td>\n",
       "      <td>jacksepticeye</td>\n",
       "      <td>24</td>\n",
       "      <td>2020-08-12T00:00:00Z</td>\n",
       "      <td>jacksepticeye|funny|funny meme|memes|jacksepti...</td>\n",
       "      <td>2038853</td>\n",
       "      <td>353787</td>\n",
       "      <td>2628</td>\n",
       "      <td>40221</td>\n",
       "      <td>False</td>\n",
       "      <td>False</td>\n",
       "      <td>I left youtube for a month and this is what ha...</td>\n",
       "      <td>Entertainment</td>\n",
       "    </tr>\n",
       "    <tr>\n",
       "      <th>3</th>\n",
       "      <td>XXL 2020 Freshman Class Revealed - Official An...</td>\n",
       "      <td>2020-08-11T16:38:55Z</td>\n",
       "      <td>UCbg_UMjlHJg_19SZckaKajg</td>\n",
       "      <td>XXL</td>\n",
       "      <td>10</td>\n",
       "      <td>2020-08-12T00:00:00Z</td>\n",
       "      <td>xxl freshman|xxl freshmen|2020 xxl freshman|20...</td>\n",
       "      <td>496771</td>\n",
       "      <td>23251</td>\n",
       "      <td>1856</td>\n",
       "      <td>7647</td>\n",
       "      <td>False</td>\n",
       "      <td>False</td>\n",
       "      <td>Subscribe to XXL → http://bit.ly/subscribe-xxl...</td>\n",
       "      <td>Music</td>\n",
       "    </tr>\n",
       "    <tr>\n",
       "      <th>4</th>\n",
       "      <td>Ultimate DIY Home Movie Theater for The LaBran...</td>\n",
       "      <td>2020-08-11T15:10:05Z</td>\n",
       "      <td>UCDVPcEbVLQgLZX0Rt6jo34A</td>\n",
       "      <td>Mr. Kate</td>\n",
       "      <td>26</td>\n",
       "      <td>2020-08-12T00:00:00Z</td>\n",
       "      <td>The LaBrant Family|DIY|Interior Design|Makeove...</td>\n",
       "      <td>1123889</td>\n",
       "      <td>45802</td>\n",
       "      <td>964</td>\n",
       "      <td>2196</td>\n",
       "      <td>False</td>\n",
       "      <td>False</td>\n",
       "      <td>Transforming The LaBrant Family's empty white ...</td>\n",
       "      <td>Howto &amp; Style</td>\n",
       "    </tr>\n",
       "  </tbody>\n",
       "</table>\n",
       "</div>"
      ],
      "text/plain": [
       "                                               title           publishedAt  \\\n",
       "0                 I ASKED HER TO BE MY GIRLFRIEND...  2020-08-11T19:20:14Z   \n",
       "1  Apex Legends | Stories from the Outlands – “Th...  2020-08-11T17:00:10Z   \n",
       "2  I left youtube for a month and THIS is what ha...  2020-08-11T16:34:06Z   \n",
       "3  XXL 2020 Freshman Class Revealed - Official An...  2020-08-11T16:38:55Z   \n",
       "4  Ultimate DIY Home Movie Theater for The LaBran...  2020-08-11T15:10:05Z   \n",
       "\n",
       "                  channelId   channelTitle  categoryId         trending_date  \\\n",
       "0  UCvtRTOMP2TqYqu51xNrqAzg       Brawadis          22  2020-08-12T00:00:00Z   \n",
       "1  UC0ZV6M2THA81QT9hrVWJG3A   Apex Legends          20  2020-08-12T00:00:00Z   \n",
       "2  UCYzPXprvl5Y-Sf0g4vX-m6g  jacksepticeye          24  2020-08-12T00:00:00Z   \n",
       "3  UCbg_UMjlHJg_19SZckaKajg            XXL          10  2020-08-12T00:00:00Z   \n",
       "4  UCDVPcEbVLQgLZX0Rt6jo34A       Mr. Kate          26  2020-08-12T00:00:00Z   \n",
       "\n",
       "                                                tags  view_count   likes  \\\n",
       "0  brawadis|prank|basketball|skits|ghost|funny vi...     1514614  156908   \n",
       "1  Apex Legends|Apex Legends characters|new Apex ...     2381688  146739   \n",
       "2  jacksepticeye|funny|funny meme|memes|jacksepti...     2038853  353787   \n",
       "3  xxl freshman|xxl freshmen|2020 xxl freshman|20...      496771   23251   \n",
       "4  The LaBrant Family|DIY|Interior Design|Makeove...     1123889   45802   \n",
       "\n",
       "   dislikes  comment_count  comments_disabled  ratings_disabled  \\\n",
       "0      5855          35313              False             False   \n",
       "1      2794          16549              False             False   \n",
       "2      2628          40221              False             False   \n",
       "3      1856           7647              False             False   \n",
       "4       964           2196              False             False   \n",
       "\n",
       "                                         description  category_title  \n",
       "0  SUBSCRIBE to BRAWADIS ▶ http://bit.ly/Subscrib...  People & Blogs  \n",
       "1  While running her own modding shop, Ramya Pare...          Gaming  \n",
       "2  I left youtube for a month and this is what ha...   Entertainment  \n",
       "3  Subscribe to XXL → http://bit.ly/subscribe-xxl...           Music  \n",
       "4  Transforming The LaBrant Family's empty white ...   Howto & Style  "
      ]
     },
     "execution_count": 255,
     "metadata": {},
     "output_type": "execute_result"
    }
   ],
   "source": [
    "df.head()"
   ]
  },
  {
   "cell_type": "code",
   "execution_count": 256,
   "id": "b2a84a00",
   "metadata": {},
   "outputs": [],
   "source": [
    "def clean_trending_date(date):\n",
    "    y,m,d = date.split('T')[0].split('-')\n",
    "    return datetime.date(int(y), int(m), int(d))\n",
    "\n",
    "def clean_publish_time(time):\n",
    "    y,m,d = time.split('T')[0].split('-')\n",
    "    return datetime.date(int(y), int(m), int(d))"
   ]
  },
  {
   "cell_type": "code",
   "execution_count": 257,
   "id": "2d493448",
   "metadata": {},
   "outputs": [
    {
     "data": {
      "text/html": [
       "<div>\n",
       "<style scoped>\n",
       "    .dataframe tbody tr th:only-of-type {\n",
       "        vertical-align: middle;\n",
       "    }\n",
       "\n",
       "    .dataframe tbody tr th {\n",
       "        vertical-align: top;\n",
       "    }\n",
       "\n",
       "    .dataframe thead th {\n",
       "        text-align: right;\n",
       "    }\n",
       "</style>\n",
       "<table border=\"1\" class=\"dataframe\">\n",
       "  <thead>\n",
       "    <tr style=\"text-align: right;\">\n",
       "      <th></th>\n",
       "      <th>title</th>\n",
       "      <th>publishedAt</th>\n",
       "      <th>channelId</th>\n",
       "      <th>channelTitle</th>\n",
       "      <th>categoryId</th>\n",
       "      <th>trending_date</th>\n",
       "      <th>tags</th>\n",
       "      <th>view_count</th>\n",
       "      <th>likes</th>\n",
       "      <th>dislikes</th>\n",
       "      <th>comment_count</th>\n",
       "      <th>comments_disabled</th>\n",
       "      <th>ratings_disabled</th>\n",
       "      <th>description</th>\n",
       "      <th>category_title</th>\n",
       "    </tr>\n",
       "  </thead>\n",
       "  <tbody>\n",
       "    <tr>\n",
       "      <th>0</th>\n",
       "      <td>I ASKED HER TO BE MY GIRLFRIEND...</td>\n",
       "      <td>2020-08-11</td>\n",
       "      <td>UCvtRTOMP2TqYqu51xNrqAzg</td>\n",
       "      <td>Brawadis</td>\n",
       "      <td>22</td>\n",
       "      <td>2020-08-12</td>\n",
       "      <td>brawadis|prank|basketball|skits|ghost|funny vi...</td>\n",
       "      <td>1514614</td>\n",
       "      <td>156908</td>\n",
       "      <td>5855</td>\n",
       "      <td>35313</td>\n",
       "      <td>False</td>\n",
       "      <td>False</td>\n",
       "      <td>SUBSCRIBE to BRAWADIS ▶ http://bit.ly/Subscrib...</td>\n",
       "      <td>People &amp; Blogs</td>\n",
       "    </tr>\n",
       "    <tr>\n",
       "      <th>1</th>\n",
       "      <td>Apex Legends | Stories from the Outlands – “Th...</td>\n",
       "      <td>2020-08-11</td>\n",
       "      <td>UC0ZV6M2THA81QT9hrVWJG3A</td>\n",
       "      <td>Apex Legends</td>\n",
       "      <td>20</td>\n",
       "      <td>2020-08-12</td>\n",
       "      <td>Apex Legends|Apex Legends characters|new Apex ...</td>\n",
       "      <td>2381688</td>\n",
       "      <td>146739</td>\n",
       "      <td>2794</td>\n",
       "      <td>16549</td>\n",
       "      <td>False</td>\n",
       "      <td>False</td>\n",
       "      <td>While running her own modding shop, Ramya Pare...</td>\n",
       "      <td>Gaming</td>\n",
       "    </tr>\n",
       "  </tbody>\n",
       "</table>\n",
       "</div>"
      ],
      "text/plain": [
       "                                               title publishedAt  \\\n",
       "0                 I ASKED HER TO BE MY GIRLFRIEND...  2020-08-11   \n",
       "1  Apex Legends | Stories from the Outlands – “Th...  2020-08-11   \n",
       "\n",
       "                  channelId  channelTitle  categoryId trending_date  \\\n",
       "0  UCvtRTOMP2TqYqu51xNrqAzg      Brawadis          22    2020-08-12   \n",
       "1  UC0ZV6M2THA81QT9hrVWJG3A  Apex Legends          20    2020-08-12   \n",
       "\n",
       "                                                tags  view_count   likes  \\\n",
       "0  brawadis|prank|basketball|skits|ghost|funny vi...     1514614  156908   \n",
       "1  Apex Legends|Apex Legends characters|new Apex ...     2381688  146739   \n",
       "\n",
       "   dislikes  comment_count  comments_disabled  ratings_disabled  \\\n",
       "0      5855          35313              False             False   \n",
       "1      2794          16549              False             False   \n",
       "\n",
       "                                         description  category_title  \n",
       "0  SUBSCRIBE to BRAWADIS ▶ http://bit.ly/Subscrib...  People & Blogs  \n",
       "1  While running her own modding shop, Ramya Pare...          Gaming  "
      ]
     },
     "execution_count": 257,
     "metadata": {},
     "output_type": "execute_result"
    }
   ],
   "source": [
    "df['trending_date'] = df['trending_date'].apply(clean_trending_date)\n",
    "df['publishedAt'] = df['publishedAt'].apply(clean_publish_time)\n",
    "\n",
    "df.head(n=2)"
   ]
  },
  {
   "cell_type": "code",
   "execution_count": 258,
   "id": "991bb68e",
   "metadata": {},
   "outputs": [
    {
     "data": {
      "text/plain": [
       "title                   0\n",
       "publishedAt             0\n",
       "channelId               0\n",
       "channelTitle            0\n",
       "categoryId              0\n",
       "trending_date           0\n",
       "tags                    0\n",
       "view_count              0\n",
       "likes                   0\n",
       "dislikes                0\n",
       "comment_count           0\n",
       "comments_disabled       0\n",
       "ratings_disabled        0\n",
       "description          4549\n",
       "category_title          0\n",
       "dtype: int64"
      ]
     },
     "execution_count": 258,
     "metadata": {},
     "output_type": "execute_result"
    }
   ],
   "source": [
    "df.isnull().sum()"
   ]
  },
  {
   "cell_type": "code",
   "execution_count": 259,
   "id": "087aed0c",
   "metadata": {},
   "outputs": [],
   "source": [
    "df = df.dropna()"
   ]
  },
  {
   "cell_type": "code",
   "execution_count": 260,
   "id": "507c58a5",
   "metadata": {},
   "outputs": [
    {
     "data": {
      "text/plain": [
       "title                0\n",
       "publishedAt          0\n",
       "channelId            0\n",
       "channelTitle         0\n",
       "categoryId           0\n",
       "trending_date        0\n",
       "tags                 0\n",
       "view_count           0\n",
       "likes                0\n",
       "dislikes             0\n",
       "comment_count        0\n",
       "comments_disabled    0\n",
       "ratings_disabled     0\n",
       "description          0\n",
       "category_title       0\n",
       "dtype: int64"
      ]
     },
     "execution_count": 260,
     "metadata": {},
     "output_type": "execute_result"
    }
   ],
   "source": [
    "df.isnull().sum()"
   ]
  },
  {
   "cell_type": "code",
   "execution_count": 261,
   "id": "7cd441ac",
   "metadata": {},
   "outputs": [],
   "source": [
    "# Ensure the date columns are in datetime format\n",
    "df['trending_date'] = pd.to_datetime(df['trending_date'])\n",
    "df['publishedAt'] = pd.to_datetime(df['publishedAt'])\n",
    "df['video_age'] = (df['trending_date'] - df['publishedAt']).dt.days"
   ]
  },
  {
   "cell_type": "code",
   "execution_count": 262,
   "id": "bdf1490a",
   "metadata": {},
   "outputs": [
    {
     "data": {
      "text/html": [
       "<div>\n",
       "<style scoped>\n",
       "    .dataframe tbody tr th:only-of-type {\n",
       "        vertical-align: middle;\n",
       "    }\n",
       "\n",
       "    .dataframe tbody tr th {\n",
       "        vertical-align: top;\n",
       "    }\n",
       "\n",
       "    .dataframe thead th {\n",
       "        text-align: right;\n",
       "    }\n",
       "</style>\n",
       "<table border=\"1\" class=\"dataframe\">\n",
       "  <thead>\n",
       "    <tr style=\"text-align: right;\">\n",
       "      <th></th>\n",
       "      <th>title</th>\n",
       "      <th>publishedAt</th>\n",
       "      <th>channelId</th>\n",
       "      <th>channelTitle</th>\n",
       "      <th>categoryId</th>\n",
       "      <th>trending_date</th>\n",
       "      <th>tags</th>\n",
       "      <th>view_count</th>\n",
       "      <th>likes</th>\n",
       "      <th>dislikes</th>\n",
       "      <th>comment_count</th>\n",
       "      <th>comments_disabled</th>\n",
       "      <th>ratings_disabled</th>\n",
       "      <th>description</th>\n",
       "      <th>category_title</th>\n",
       "      <th>video_age</th>\n",
       "    </tr>\n",
       "  </thead>\n",
       "  <tbody>\n",
       "    <tr>\n",
       "      <th>0</th>\n",
       "      <td>I ASKED HER TO BE MY GIRLFRIEND...</td>\n",
       "      <td>2020-08-11</td>\n",
       "      <td>UCvtRTOMP2TqYqu51xNrqAzg</td>\n",
       "      <td>Brawadis</td>\n",
       "      <td>22</td>\n",
       "      <td>2020-08-12</td>\n",
       "      <td>brawadis|prank|basketball|skits|ghost|funny vi...</td>\n",
       "      <td>1514614</td>\n",
       "      <td>156908</td>\n",
       "      <td>5855</td>\n",
       "      <td>35313</td>\n",
       "      <td>False</td>\n",
       "      <td>False</td>\n",
       "      <td>SUBSCRIBE to BRAWADIS ▶ http://bit.ly/Subscrib...</td>\n",
       "      <td>People &amp; Blogs</td>\n",
       "      <td>1</td>\n",
       "    </tr>\n",
       "    <tr>\n",
       "      <th>1</th>\n",
       "      <td>Apex Legends | Stories from the Outlands – “Th...</td>\n",
       "      <td>2020-08-11</td>\n",
       "      <td>UC0ZV6M2THA81QT9hrVWJG3A</td>\n",
       "      <td>Apex Legends</td>\n",
       "      <td>20</td>\n",
       "      <td>2020-08-12</td>\n",
       "      <td>Apex Legends|Apex Legends characters|new Apex ...</td>\n",
       "      <td>2381688</td>\n",
       "      <td>146739</td>\n",
       "      <td>2794</td>\n",
       "      <td>16549</td>\n",
       "      <td>False</td>\n",
       "      <td>False</td>\n",
       "      <td>While running her own modding shop, Ramya Pare...</td>\n",
       "      <td>Gaming</td>\n",
       "      <td>1</td>\n",
       "    </tr>\n",
       "    <tr>\n",
       "      <th>2</th>\n",
       "      <td>I left youtube for a month and THIS is what ha...</td>\n",
       "      <td>2020-08-11</td>\n",
       "      <td>UCYzPXprvl5Y-Sf0g4vX-m6g</td>\n",
       "      <td>jacksepticeye</td>\n",
       "      <td>24</td>\n",
       "      <td>2020-08-12</td>\n",
       "      <td>jacksepticeye|funny|funny meme|memes|jacksepti...</td>\n",
       "      <td>2038853</td>\n",
       "      <td>353787</td>\n",
       "      <td>2628</td>\n",
       "      <td>40221</td>\n",
       "      <td>False</td>\n",
       "      <td>False</td>\n",
       "      <td>I left youtube for a month and this is what ha...</td>\n",
       "      <td>Entertainment</td>\n",
       "      <td>1</td>\n",
       "    </tr>\n",
       "    <tr>\n",
       "      <th>3</th>\n",
       "      <td>XXL 2020 Freshman Class Revealed - Official An...</td>\n",
       "      <td>2020-08-11</td>\n",
       "      <td>UCbg_UMjlHJg_19SZckaKajg</td>\n",
       "      <td>XXL</td>\n",
       "      <td>10</td>\n",
       "      <td>2020-08-12</td>\n",
       "      <td>xxl freshman|xxl freshmen|2020 xxl freshman|20...</td>\n",
       "      <td>496771</td>\n",
       "      <td>23251</td>\n",
       "      <td>1856</td>\n",
       "      <td>7647</td>\n",
       "      <td>False</td>\n",
       "      <td>False</td>\n",
       "      <td>Subscribe to XXL → http://bit.ly/subscribe-xxl...</td>\n",
       "      <td>Music</td>\n",
       "      <td>1</td>\n",
       "    </tr>\n",
       "    <tr>\n",
       "      <th>4</th>\n",
       "      <td>Ultimate DIY Home Movie Theater for The LaBran...</td>\n",
       "      <td>2020-08-11</td>\n",
       "      <td>UCDVPcEbVLQgLZX0Rt6jo34A</td>\n",
       "      <td>Mr. Kate</td>\n",
       "      <td>26</td>\n",
       "      <td>2020-08-12</td>\n",
       "      <td>The LaBrant Family|DIY|Interior Design|Makeove...</td>\n",
       "      <td>1123889</td>\n",
       "      <td>45802</td>\n",
       "      <td>964</td>\n",
       "      <td>2196</td>\n",
       "      <td>False</td>\n",
       "      <td>False</td>\n",
       "      <td>Transforming The LaBrant Family's empty white ...</td>\n",
       "      <td>Howto &amp; Style</td>\n",
       "      <td>1</td>\n",
       "    </tr>\n",
       "  </tbody>\n",
       "</table>\n",
       "</div>"
      ],
      "text/plain": [
       "                                               title publishedAt  \\\n",
       "0                 I ASKED HER TO BE MY GIRLFRIEND...  2020-08-11   \n",
       "1  Apex Legends | Stories from the Outlands – “Th...  2020-08-11   \n",
       "2  I left youtube for a month and THIS is what ha...  2020-08-11   \n",
       "3  XXL 2020 Freshman Class Revealed - Official An...  2020-08-11   \n",
       "4  Ultimate DIY Home Movie Theater for The LaBran...  2020-08-11   \n",
       "\n",
       "                  channelId   channelTitle  categoryId trending_date  \\\n",
       "0  UCvtRTOMP2TqYqu51xNrqAzg       Brawadis          22    2020-08-12   \n",
       "1  UC0ZV6M2THA81QT9hrVWJG3A   Apex Legends          20    2020-08-12   \n",
       "2  UCYzPXprvl5Y-Sf0g4vX-m6g  jacksepticeye          24    2020-08-12   \n",
       "3  UCbg_UMjlHJg_19SZckaKajg            XXL          10    2020-08-12   \n",
       "4  UCDVPcEbVLQgLZX0Rt6jo34A       Mr. Kate          26    2020-08-12   \n",
       "\n",
       "                                                tags  view_count   likes  \\\n",
       "0  brawadis|prank|basketball|skits|ghost|funny vi...     1514614  156908   \n",
       "1  Apex Legends|Apex Legends characters|new Apex ...     2381688  146739   \n",
       "2  jacksepticeye|funny|funny meme|memes|jacksepti...     2038853  353787   \n",
       "3  xxl freshman|xxl freshmen|2020 xxl freshman|20...      496771   23251   \n",
       "4  The LaBrant Family|DIY|Interior Design|Makeove...     1123889   45802   \n",
       "\n",
       "   dislikes  comment_count  comments_disabled  ratings_disabled  \\\n",
       "0      5855          35313              False             False   \n",
       "1      2794          16549              False             False   \n",
       "2      2628          40221              False             False   \n",
       "3      1856           7647              False             False   \n",
       "4       964           2196              False             False   \n",
       "\n",
       "                                         description  category_title  \\\n",
       "0  SUBSCRIBE to BRAWADIS ▶ http://bit.ly/Subscrib...  People & Blogs   \n",
       "1  While running her own modding shop, Ramya Pare...          Gaming   \n",
       "2  I left youtube for a month and this is what ha...   Entertainment   \n",
       "3  Subscribe to XXL → http://bit.ly/subscribe-xxl...           Music   \n",
       "4  Transforming The LaBrant Family's empty white ...   Howto & Style   \n",
       "\n",
       "   video_age  \n",
       "0          1  \n",
       "1          1  \n",
       "2          1  \n",
       "3          1  \n",
       "4          1  "
      ]
     },
     "execution_count": 262,
     "metadata": {},
     "output_type": "execute_result"
    }
   ],
   "source": [
    "df.head()"
   ]
  },
  {
   "cell_type": "code",
   "execution_count": 263,
   "id": "352b0370",
   "metadata": {},
   "outputs": [
    {
     "data": {
      "text/html": [
       "<div>\n",
       "<style scoped>\n",
       "    .dataframe tbody tr th:only-of-type {\n",
       "        vertical-align: middle;\n",
       "    }\n",
       "\n",
       "    .dataframe tbody tr th {\n",
       "        vertical-align: top;\n",
       "    }\n",
       "\n",
       "    .dataframe thead th {\n",
       "        text-align: right;\n",
       "    }\n",
       "</style>\n",
       "<table border=\"1\" class=\"dataframe\">\n",
       "  <thead>\n",
       "    <tr style=\"text-align: right;\">\n",
       "      <th></th>\n",
       "      <th>title</th>\n",
       "      <th>title_cl</th>\n",
       "    </tr>\n",
       "  </thead>\n",
       "  <tbody>\n",
       "    <tr>\n",
       "      <th>0</th>\n",
       "      <td>I ASKED HER TO BE MY GIRLFRIEND...</td>\n",
       "      <td>asked girlfriend</td>\n",
       "    </tr>\n",
       "    <tr>\n",
       "      <th>1</th>\n",
       "      <td>Apex Legends | Stories from the Outlands – “Th...</td>\n",
       "      <td>apex legends stories outlands</td>\n",
       "    </tr>\n",
       "    <tr>\n",
       "      <th>2</th>\n",
       "      <td>I left youtube for a month and THIS is what ha...</td>\n",
       "      <td>left youtube month happened</td>\n",
       "    </tr>\n",
       "    <tr>\n",
       "      <th>3</th>\n",
       "      <td>XXL 2020 Freshman Class Revealed - Official An...</td>\n",
       "      <td>xxl 2020 freshman class revealed official anno...</td>\n",
       "    </tr>\n",
       "    <tr>\n",
       "      <th>4</th>\n",
       "      <td>Ultimate DIY Home Movie Theater for The LaBran...</td>\n",
       "      <td>ultimate diy home movie theater labrant family</td>\n",
       "    </tr>\n",
       "  </tbody>\n",
       "</table>\n",
       "</div>"
      ],
      "text/plain": [
       "                                               title  \\\n",
       "0                 I ASKED HER TO BE MY GIRLFRIEND...   \n",
       "1  Apex Legends | Stories from the Outlands – “Th...   \n",
       "2  I left youtube for a month and THIS is what ha...   \n",
       "3  XXL 2020 Freshman Class Revealed - Official An...   \n",
       "4  Ultimate DIY Home Movie Theater for The LaBran...   \n",
       "\n",
       "                                            title_cl  \n",
       "0                                   asked girlfriend  \n",
       "1                      apex legends stories outlands  \n",
       "2                        left youtube month happened  \n",
       "3  xxl 2020 freshman class revealed official anno...  \n",
       "4     ultimate diy home movie theater labrant family  "
      ]
     },
     "execution_count": 263,
     "metadata": {},
     "output_type": "execute_result"
    }
   ],
   "source": [
    "\n",
    "stop_words = set(stopwords.words('english'))\n",
    "\n",
    "important_words = {'official', 'video', 'new', 'trailer', 'teaser', 'release', 'exclusive'}\n",
    "\n",
    "def clean_titles(title):\n",
    "    tokens = title.lower().split()\n",
    "    cleaned = []\n",
    "    for token in tokens:\n",
    "        token = token.translate(str.maketrans('', '', string.punctuation))\n",
    "        if (token in important_words or token not in stop_words) and token.isalnum():\n",
    "            cleaned.append(token)\n",
    "    return ' '.join(cleaned)\n",
    "\n",
    "df['title_cl'] = df['title'].apply(clean_titles)\n",
    "\n",
    "df[['title', 'title_cl']].head()\n"
   ]
  },
  {
   "cell_type": "code",
   "execution_count": 264,
   "id": "fd066ad9",
   "metadata": {},
   "outputs": [
    {
     "data": {
      "text/html": [
       "<div>\n",
       "<style scoped>\n",
       "    .dataframe tbody tr th:only-of-type {\n",
       "        vertical-align: middle;\n",
       "    }\n",
       "\n",
       "    .dataframe tbody tr th {\n",
       "        vertical-align: top;\n",
       "    }\n",
       "\n",
       "    .dataframe thead th {\n",
       "        text-align: right;\n",
       "    }\n",
       "</style>\n",
       "<table border=\"1\" class=\"dataframe\">\n",
       "  <thead>\n",
       "    <tr style=\"text-align: right;\">\n",
       "      <th></th>\n",
       "      <th>title</th>\n",
       "      <th>publishedAt</th>\n",
       "      <th>channelId</th>\n",
       "      <th>channelTitle</th>\n",
       "      <th>categoryId</th>\n",
       "      <th>trending_date</th>\n",
       "      <th>tags</th>\n",
       "      <th>view_count</th>\n",
       "      <th>likes</th>\n",
       "      <th>dislikes</th>\n",
       "      <th>comment_count</th>\n",
       "      <th>comments_disabled</th>\n",
       "      <th>ratings_disabled</th>\n",
       "      <th>description</th>\n",
       "      <th>category_title</th>\n",
       "      <th>video_age</th>\n",
       "      <th>title_cl</th>\n",
       "    </tr>\n",
       "  </thead>\n",
       "  <tbody>\n",
       "    <tr>\n",
       "      <th>0</th>\n",
       "      <td>I ASKED HER TO BE MY GIRLFRIEND...</td>\n",
       "      <td>2020-08-11</td>\n",
       "      <td>UCvtRTOMP2TqYqu51xNrqAzg</td>\n",
       "      <td>Brawadis</td>\n",
       "      <td>22</td>\n",
       "      <td>2020-08-12</td>\n",
       "      <td>brawadis|prank|basketball|skits|ghost|funny vi...</td>\n",
       "      <td>1514614</td>\n",
       "      <td>156908</td>\n",
       "      <td>5855</td>\n",
       "      <td>35313</td>\n",
       "      <td>False</td>\n",
       "      <td>False</td>\n",
       "      <td>SUBSCRIBE to BRAWADIS ▶ http://bit.ly/Subscrib...</td>\n",
       "      <td>People &amp; Blogs</td>\n",
       "      <td>1</td>\n",
       "      <td>asked girlfriend</td>\n",
       "    </tr>\n",
       "    <tr>\n",
       "      <th>1</th>\n",
       "      <td>Apex Legends | Stories from the Outlands – “Th...</td>\n",
       "      <td>2020-08-11</td>\n",
       "      <td>UC0ZV6M2THA81QT9hrVWJG3A</td>\n",
       "      <td>Apex Legends</td>\n",
       "      <td>20</td>\n",
       "      <td>2020-08-12</td>\n",
       "      <td>Apex Legends|Apex Legends characters|new Apex ...</td>\n",
       "      <td>2381688</td>\n",
       "      <td>146739</td>\n",
       "      <td>2794</td>\n",
       "      <td>16549</td>\n",
       "      <td>False</td>\n",
       "      <td>False</td>\n",
       "      <td>While running her own modding shop, Ramya Pare...</td>\n",
       "      <td>Gaming</td>\n",
       "      <td>1</td>\n",
       "      <td>apex legends stories outlands</td>\n",
       "    </tr>\n",
       "    <tr>\n",
       "      <th>2</th>\n",
       "      <td>I left youtube for a month and THIS is what ha...</td>\n",
       "      <td>2020-08-11</td>\n",
       "      <td>UCYzPXprvl5Y-Sf0g4vX-m6g</td>\n",
       "      <td>jacksepticeye</td>\n",
       "      <td>24</td>\n",
       "      <td>2020-08-12</td>\n",
       "      <td>jacksepticeye|funny|funny meme|memes|jacksepti...</td>\n",
       "      <td>2038853</td>\n",
       "      <td>353787</td>\n",
       "      <td>2628</td>\n",
       "      <td>40221</td>\n",
       "      <td>False</td>\n",
       "      <td>False</td>\n",
       "      <td>I left youtube for a month and this is what ha...</td>\n",
       "      <td>Entertainment</td>\n",
       "      <td>1</td>\n",
       "      <td>left youtube month happened</td>\n",
       "    </tr>\n",
       "    <tr>\n",
       "      <th>3</th>\n",
       "      <td>XXL 2020 Freshman Class Revealed - Official An...</td>\n",
       "      <td>2020-08-11</td>\n",
       "      <td>UCbg_UMjlHJg_19SZckaKajg</td>\n",
       "      <td>XXL</td>\n",
       "      <td>10</td>\n",
       "      <td>2020-08-12</td>\n",
       "      <td>xxl freshman|xxl freshmen|2020 xxl freshman|20...</td>\n",
       "      <td>496771</td>\n",
       "      <td>23251</td>\n",
       "      <td>1856</td>\n",
       "      <td>7647</td>\n",
       "      <td>False</td>\n",
       "      <td>False</td>\n",
       "      <td>Subscribe to XXL → http://bit.ly/subscribe-xxl...</td>\n",
       "      <td>Music</td>\n",
       "      <td>1</td>\n",
       "      <td>xxl 2020 freshman class revealed official anno...</td>\n",
       "    </tr>\n",
       "    <tr>\n",
       "      <th>4</th>\n",
       "      <td>Ultimate DIY Home Movie Theater for The LaBran...</td>\n",
       "      <td>2020-08-11</td>\n",
       "      <td>UCDVPcEbVLQgLZX0Rt6jo34A</td>\n",
       "      <td>Mr. Kate</td>\n",
       "      <td>26</td>\n",
       "      <td>2020-08-12</td>\n",
       "      <td>The LaBrant Family|DIY|Interior Design|Makeove...</td>\n",
       "      <td>1123889</td>\n",
       "      <td>45802</td>\n",
       "      <td>964</td>\n",
       "      <td>2196</td>\n",
       "      <td>False</td>\n",
       "      <td>False</td>\n",
       "      <td>Transforming The LaBrant Family's empty white ...</td>\n",
       "      <td>Howto &amp; Style</td>\n",
       "      <td>1</td>\n",
       "      <td>ultimate diy home movie theater labrant family</td>\n",
       "    </tr>\n",
       "  </tbody>\n",
       "</table>\n",
       "</div>"
      ],
      "text/plain": [
       "                                               title publishedAt  \\\n",
       "0                 I ASKED HER TO BE MY GIRLFRIEND...  2020-08-11   \n",
       "1  Apex Legends | Stories from the Outlands – “Th...  2020-08-11   \n",
       "2  I left youtube for a month and THIS is what ha...  2020-08-11   \n",
       "3  XXL 2020 Freshman Class Revealed - Official An...  2020-08-11   \n",
       "4  Ultimate DIY Home Movie Theater for The LaBran...  2020-08-11   \n",
       "\n",
       "                  channelId   channelTitle  categoryId trending_date  \\\n",
       "0  UCvtRTOMP2TqYqu51xNrqAzg       Brawadis          22    2020-08-12   \n",
       "1  UC0ZV6M2THA81QT9hrVWJG3A   Apex Legends          20    2020-08-12   \n",
       "2  UCYzPXprvl5Y-Sf0g4vX-m6g  jacksepticeye          24    2020-08-12   \n",
       "3  UCbg_UMjlHJg_19SZckaKajg            XXL          10    2020-08-12   \n",
       "4  UCDVPcEbVLQgLZX0Rt6jo34A       Mr. Kate          26    2020-08-12   \n",
       "\n",
       "                                                tags  view_count   likes  \\\n",
       "0  brawadis|prank|basketball|skits|ghost|funny vi...     1514614  156908   \n",
       "1  Apex Legends|Apex Legends characters|new Apex ...     2381688  146739   \n",
       "2  jacksepticeye|funny|funny meme|memes|jacksepti...     2038853  353787   \n",
       "3  xxl freshman|xxl freshmen|2020 xxl freshman|20...      496771   23251   \n",
       "4  The LaBrant Family|DIY|Interior Design|Makeove...     1123889   45802   \n",
       "\n",
       "   dislikes  comment_count  comments_disabled  ratings_disabled  \\\n",
       "0      5855          35313              False             False   \n",
       "1      2794          16549              False             False   \n",
       "2      2628          40221              False             False   \n",
       "3      1856           7647              False             False   \n",
       "4       964           2196              False             False   \n",
       "\n",
       "                                         description  category_title  \\\n",
       "0  SUBSCRIBE to BRAWADIS ▶ http://bit.ly/Subscrib...  People & Blogs   \n",
       "1  While running her own modding shop, Ramya Pare...          Gaming   \n",
       "2  I left youtube for a month and this is what ha...   Entertainment   \n",
       "3  Subscribe to XXL → http://bit.ly/subscribe-xxl...           Music   \n",
       "4  Transforming The LaBrant Family's empty white ...   Howto & Style   \n",
       "\n",
       "   video_age                                           title_cl  \n",
       "0          1                                   asked girlfriend  \n",
       "1          1                      apex legends stories outlands  \n",
       "2          1                        left youtube month happened  \n",
       "3          1  xxl 2020 freshman class revealed official anno...  \n",
       "4          1     ultimate diy home movie theater labrant family  "
      ]
     },
     "execution_count": 264,
     "metadata": {},
     "output_type": "execute_result"
    }
   ],
   "source": [
    "df.head()"
   ]
  },
  {
   "cell_type": "code",
   "execution_count": 265,
   "id": "cc009d7b",
   "metadata": {},
   "outputs": [
    {
     "data": {
      "text/plain": [
       "'asked girlfriend'"
      ]
     },
     "execution_count": 265,
     "metadata": {},
     "output_type": "execute_result"
    }
   ],
   "source": [
    "df['title_cl'][0]"
   ]
  },
  {
   "cell_type": "code",
   "execution_count": 266,
   "id": "65bb0eba",
   "metadata": {},
   "outputs": [
    {
     "data": {
      "text/html": [
       "<div>\n",
       "<style scoped>\n",
       "    .dataframe tbody tr th:only-of-type {\n",
       "        vertical-align: middle;\n",
       "    }\n",
       "\n",
       "    .dataframe tbody tr th {\n",
       "        vertical-align: top;\n",
       "    }\n",
       "\n",
       "    .dataframe thead th {\n",
       "        text-align: right;\n",
       "    }\n",
       "</style>\n",
       "<table border=\"1\" class=\"dataframe\">\n",
       "  <thead>\n",
       "    <tr style=\"text-align: right;\">\n",
       "      <th></th>\n",
       "      <th>title</th>\n",
       "      <th>publishedAt</th>\n",
       "      <th>channelId</th>\n",
       "      <th>channelTitle</th>\n",
       "      <th>categoryId</th>\n",
       "      <th>trending_date</th>\n",
       "      <th>tags</th>\n",
       "      <th>view_count</th>\n",
       "      <th>likes</th>\n",
       "      <th>dislikes</th>\n",
       "      <th>comment_count</th>\n",
       "      <th>comments_disabled</th>\n",
       "      <th>ratings_disabled</th>\n",
       "      <th>description</th>\n",
       "      <th>category_title</th>\n",
       "      <th>video_age</th>\n",
       "      <th>title_cl</th>\n",
       "    </tr>\n",
       "  </thead>\n",
       "  <tbody>\n",
       "    <tr>\n",
       "      <th>0</th>\n",
       "      <td>I ASKED HER TO BE MY GIRLFRIEND...</td>\n",
       "      <td>2020-08-11</td>\n",
       "      <td>UCvtRTOMP2TqYqu51xNrqAzg</td>\n",
       "      <td>Brawadis</td>\n",
       "      <td>22</td>\n",
       "      <td>2020-08-12</td>\n",
       "      <td>brawadis|prank|basketball|skits|ghost|funny vi...</td>\n",
       "      <td>1514614</td>\n",
       "      <td>156908</td>\n",
       "      <td>5855</td>\n",
       "      <td>35313</td>\n",
       "      <td>False</td>\n",
       "      <td>False</td>\n",
       "      <td>SUBSCRIBE to BRAWADIS ▶ http://bit.ly/Subscrib...</td>\n",
       "      <td>People &amp; Blogs</td>\n",
       "      <td>1</td>\n",
       "      <td>asked girlfriend</td>\n",
       "    </tr>\n",
       "  </tbody>\n",
       "</table>\n",
       "</div>"
      ],
      "text/plain": [
       "                                title publishedAt                 channelId  \\\n",
       "0  I ASKED HER TO BE MY GIRLFRIEND...  2020-08-11  UCvtRTOMP2TqYqu51xNrqAzg   \n",
       "\n",
       "  channelTitle  categoryId trending_date  \\\n",
       "0     Brawadis          22    2020-08-12   \n",
       "\n",
       "                                                tags  view_count   likes  \\\n",
       "0  brawadis|prank|basketball|skits|ghost|funny vi...     1514614  156908   \n",
       "\n",
       "   dislikes  comment_count  comments_disabled  ratings_disabled  \\\n",
       "0      5855          35313              False             False   \n",
       "\n",
       "                                         description  category_title  \\\n",
       "0  SUBSCRIBE to BRAWADIS ▶ http://bit.ly/Subscrib...  People & Blogs   \n",
       "\n",
       "   video_age          title_cl  \n",
       "0          1  asked girlfriend  "
      ]
     },
     "execution_count": 266,
     "metadata": {},
     "output_type": "execute_result"
    }
   ],
   "source": [
    "df.head(1)"
   ]
  },
  {
   "cell_type": "code",
   "execution_count": 267,
   "id": "f12f6c7d",
   "metadata": {},
   "outputs": [
    {
     "data": {
      "text/html": [
       "<div>\n",
       "<style scoped>\n",
       "    .dataframe tbody tr th:only-of-type {\n",
       "        vertical-align: middle;\n",
       "    }\n",
       "\n",
       "    .dataframe tbody tr th {\n",
       "        vertical-align: top;\n",
       "    }\n",
       "\n",
       "    .dataframe thead th {\n",
       "        text-align: right;\n",
       "    }\n",
       "</style>\n",
       "<table border=\"1\" class=\"dataframe\">\n",
       "  <thead>\n",
       "    <tr style=\"text-align: right;\">\n",
       "      <th></th>\n",
       "      <th>publishedAt</th>\n",
       "      <th>categoryId</th>\n",
       "      <th>trending_date</th>\n",
       "      <th>view_count</th>\n",
       "      <th>likes</th>\n",
       "      <th>dislikes</th>\n",
       "      <th>comment_count</th>\n",
       "      <th>video_age</th>\n",
       "    </tr>\n",
       "  </thead>\n",
       "  <tbody>\n",
       "    <tr>\n",
       "      <th>count</th>\n",
       "      <td>264238</td>\n",
       "      <td>264238.000000</td>\n",
       "      <td>264238</td>\n",
       "      <td>2.642380e+05</td>\n",
       "      <td>2.642380e+05</td>\n",
       "      <td>264238.000000</td>\n",
       "      <td>2.642380e+05</td>\n",
       "      <td>264238.00000</td>\n",
       "    </tr>\n",
       "    <tr>\n",
       "      <th>mean</th>\n",
       "      <td>2022-06-10 04:08:12.537787648</td>\n",
       "      <td>18.714061</td>\n",
       "      <td>2022-06-14 08:05:22.618245376</td>\n",
       "      <td>2.722629e+06</td>\n",
       "      <td>1.306312e+05</td>\n",
       "      <td>1098.990637</td>\n",
       "      <td>1.024426e+04</td>\n",
       "      <td>4.16470</td>\n",
       "    </tr>\n",
       "    <tr>\n",
       "      <th>min</th>\n",
       "      <td>2020-08-03 00:00:00</td>\n",
       "      <td>1.000000</td>\n",
       "      <td>2020-08-12 00:00:00</td>\n",
       "      <td>0.000000e+00</td>\n",
       "      <td>0.000000e+00</td>\n",
       "      <td>0.000000</td>\n",
       "      <td>0.000000e+00</td>\n",
       "      <td>0.00000</td>\n",
       "    </tr>\n",
       "    <tr>\n",
       "      <th>25%</th>\n",
       "      <td>2021-07-01 00:00:00</td>\n",
       "      <td>17.000000</td>\n",
       "      <td>2021-07-05 00:00:00</td>\n",
       "      <td>4.726832e+05</td>\n",
       "      <td>1.789100e+04</td>\n",
       "      <td>0.000000</td>\n",
       "      <td>1.303000e+03</td>\n",
       "      <td>2.00000</td>\n",
       "    </tr>\n",
       "    <tr>\n",
       "      <th>50%</th>\n",
       "      <td>2022-06-14 00:00:00</td>\n",
       "      <td>20.000000</td>\n",
       "      <td>2022-06-17 00:00:00</td>\n",
       "      <td>9.358560e+05</td>\n",
       "      <td>3.993050e+04</td>\n",
       "      <td>0.000000</td>\n",
       "      <td>2.783000e+03</td>\n",
       "      <td>4.00000</td>\n",
       "    </tr>\n",
       "    <tr>\n",
       "      <th>75%</th>\n",
       "      <td>2023-05-12 00:00:00</td>\n",
       "      <td>24.000000</td>\n",
       "      <td>2023-05-16 00:00:00</td>\n",
       "      <td>2.102609e+06</td>\n",
       "      <td>9.775700e+04</td>\n",
       "      <td>463.000000</td>\n",
       "      <td>6.433000e+03</td>\n",
       "      <td>5.00000</td>\n",
       "    </tr>\n",
       "    <tr>\n",
       "      <th>max</th>\n",
       "      <td>2024-04-14 00:00:00</td>\n",
       "      <td>29.000000</td>\n",
       "      <td>2024-04-15 00:00:00</td>\n",
       "      <td>1.407644e+09</td>\n",
       "      <td>1.602153e+07</td>\n",
       "      <td>879354.000000</td>\n",
       "      <td>6.738537e+06</td>\n",
       "      <td>37.00000</td>\n",
       "    </tr>\n",
       "    <tr>\n",
       "      <th>std</th>\n",
       "      <td>NaN</td>\n",
       "      <td>6.798227</td>\n",
       "      <td>NaN</td>\n",
       "      <td>9.794649e+06</td>\n",
       "      <td>4.539077e+05</td>\n",
       "      <td>7937.852758</td>\n",
       "      <td>7.320983e+04</td>\n",
       "      <td>2.56187</td>\n",
       "    </tr>\n",
       "  </tbody>\n",
       "</table>\n",
       "</div>"
      ],
      "text/plain": [
       "                         publishedAt     categoryId  \\\n",
       "count                         264238  264238.000000   \n",
       "mean   2022-06-10 04:08:12.537787648      18.714061   \n",
       "min              2020-08-03 00:00:00       1.000000   \n",
       "25%              2021-07-01 00:00:00      17.000000   \n",
       "50%              2022-06-14 00:00:00      20.000000   \n",
       "75%              2023-05-12 00:00:00      24.000000   \n",
       "max              2024-04-14 00:00:00      29.000000   \n",
       "std                              NaN       6.798227   \n",
       "\n",
       "                       trending_date    view_count         likes  \\\n",
       "count                         264238  2.642380e+05  2.642380e+05   \n",
       "mean   2022-06-14 08:05:22.618245376  2.722629e+06  1.306312e+05   \n",
       "min              2020-08-12 00:00:00  0.000000e+00  0.000000e+00   \n",
       "25%              2021-07-05 00:00:00  4.726832e+05  1.789100e+04   \n",
       "50%              2022-06-17 00:00:00  9.358560e+05  3.993050e+04   \n",
       "75%              2023-05-16 00:00:00  2.102609e+06  9.775700e+04   \n",
       "max              2024-04-15 00:00:00  1.407644e+09  1.602153e+07   \n",
       "std                              NaN  9.794649e+06  4.539077e+05   \n",
       "\n",
       "            dislikes  comment_count     video_age  \n",
       "count  264238.000000   2.642380e+05  264238.00000  \n",
       "mean     1098.990637   1.024426e+04       4.16470  \n",
       "min         0.000000   0.000000e+00       0.00000  \n",
       "25%         0.000000   1.303000e+03       2.00000  \n",
       "50%         0.000000   2.783000e+03       4.00000  \n",
       "75%       463.000000   6.433000e+03       5.00000  \n",
       "max    879354.000000   6.738537e+06      37.00000  \n",
       "std      7937.852758   7.320983e+04       2.56187  "
      ]
     },
     "execution_count": 267,
     "metadata": {},
     "output_type": "execute_result"
    }
   ],
   "source": [
    "df.describe()"
   ]
  },
  {
   "cell_type": "code",
   "execution_count": 268,
   "id": "2cb520f0",
   "metadata": {},
   "outputs": [
    {
     "ename": "ValueError",
     "evalue": "could not convert string to float: 'I ASKED HER TO BE MY GIRLFRIEND...'",
     "output_type": "error",
     "traceback": [
      "\u001b[0;31m---------------------------------------------------------------------------\u001b[0m",
      "\u001b[0;31mValueError\u001b[0m                                Traceback (most recent call last)",
      "Cell \u001b[0;32mIn[268], line 1\u001b[0m\n\u001b[0;32m----> 1\u001b[0m df\u001b[38;5;241m.\u001b[39mcorr()\n",
      "File \u001b[0;32m/opt/anaconda3/lib/python3.11/site-packages/pandas/core/frame.py:10704\u001b[0m, in \u001b[0;36mDataFrame.corr\u001b[0;34m(self, method, min_periods, numeric_only)\u001b[0m\n\u001b[1;32m  10702\u001b[0m cols \u001b[38;5;241m=\u001b[39m data\u001b[38;5;241m.\u001b[39mcolumns\n\u001b[1;32m  10703\u001b[0m idx \u001b[38;5;241m=\u001b[39m cols\u001b[38;5;241m.\u001b[39mcopy()\n\u001b[0;32m> 10704\u001b[0m mat \u001b[38;5;241m=\u001b[39m data\u001b[38;5;241m.\u001b[39mto_numpy(dtype\u001b[38;5;241m=\u001b[39m\u001b[38;5;28mfloat\u001b[39m, na_value\u001b[38;5;241m=\u001b[39mnp\u001b[38;5;241m.\u001b[39mnan, copy\u001b[38;5;241m=\u001b[39m\u001b[38;5;28;01mFalse\u001b[39;00m)\n\u001b[1;32m  10706\u001b[0m \u001b[38;5;28;01mif\u001b[39;00m method \u001b[38;5;241m==\u001b[39m \u001b[38;5;124m\"\u001b[39m\u001b[38;5;124mpearson\u001b[39m\u001b[38;5;124m\"\u001b[39m:\n\u001b[1;32m  10707\u001b[0m     correl \u001b[38;5;241m=\u001b[39m libalgos\u001b[38;5;241m.\u001b[39mnancorr(mat, minp\u001b[38;5;241m=\u001b[39mmin_periods)\n",
      "File \u001b[0;32m/opt/anaconda3/lib/python3.11/site-packages/pandas/core/frame.py:1889\u001b[0m, in \u001b[0;36mDataFrame.to_numpy\u001b[0;34m(self, dtype, copy, na_value)\u001b[0m\n\u001b[1;32m   1887\u001b[0m \u001b[38;5;28;01mif\u001b[39;00m dtype \u001b[38;5;129;01mis\u001b[39;00m \u001b[38;5;129;01mnot\u001b[39;00m \u001b[38;5;28;01mNone\u001b[39;00m:\n\u001b[1;32m   1888\u001b[0m     dtype \u001b[38;5;241m=\u001b[39m np\u001b[38;5;241m.\u001b[39mdtype(dtype)\n\u001b[0;32m-> 1889\u001b[0m result \u001b[38;5;241m=\u001b[39m \u001b[38;5;28mself\u001b[39m\u001b[38;5;241m.\u001b[39m_mgr\u001b[38;5;241m.\u001b[39mas_array(dtype\u001b[38;5;241m=\u001b[39mdtype, copy\u001b[38;5;241m=\u001b[39mcopy, na_value\u001b[38;5;241m=\u001b[39mna_value)\n\u001b[1;32m   1890\u001b[0m \u001b[38;5;28;01mif\u001b[39;00m result\u001b[38;5;241m.\u001b[39mdtype \u001b[38;5;129;01mis\u001b[39;00m \u001b[38;5;129;01mnot\u001b[39;00m dtype:\n\u001b[1;32m   1891\u001b[0m     result \u001b[38;5;241m=\u001b[39m np\u001b[38;5;241m.\u001b[39marray(result, dtype\u001b[38;5;241m=\u001b[39mdtype, copy\u001b[38;5;241m=\u001b[39m\u001b[38;5;28;01mFalse\u001b[39;00m)\n",
      "File \u001b[0;32m/opt/anaconda3/lib/python3.11/site-packages/pandas/core/internals/managers.py:1656\u001b[0m, in \u001b[0;36mBlockManager.as_array\u001b[0;34m(self, dtype, copy, na_value)\u001b[0m\n\u001b[1;32m   1654\u001b[0m         arr\u001b[38;5;241m.\u001b[39mflags\u001b[38;5;241m.\u001b[39mwriteable \u001b[38;5;241m=\u001b[39m \u001b[38;5;28;01mFalse\u001b[39;00m\n\u001b[1;32m   1655\u001b[0m \u001b[38;5;28;01melse\u001b[39;00m:\n\u001b[0;32m-> 1656\u001b[0m     arr \u001b[38;5;241m=\u001b[39m \u001b[38;5;28mself\u001b[39m\u001b[38;5;241m.\u001b[39m_interleave(dtype\u001b[38;5;241m=\u001b[39mdtype, na_value\u001b[38;5;241m=\u001b[39mna_value)\n\u001b[1;32m   1657\u001b[0m     \u001b[38;5;66;03m# The underlying data was copied within _interleave, so no need\u001b[39;00m\n\u001b[1;32m   1658\u001b[0m     \u001b[38;5;66;03m# to further copy if copy=True or setting na_value\u001b[39;00m\n\u001b[1;32m   1660\u001b[0m \u001b[38;5;28;01mif\u001b[39;00m na_value \u001b[38;5;129;01mis\u001b[39;00m lib\u001b[38;5;241m.\u001b[39mno_default:\n",
      "File \u001b[0;32m/opt/anaconda3/lib/python3.11/site-packages/pandas/core/internals/managers.py:1715\u001b[0m, in \u001b[0;36mBlockManager._interleave\u001b[0;34m(self, dtype, na_value)\u001b[0m\n\u001b[1;32m   1713\u001b[0m     \u001b[38;5;28;01melse\u001b[39;00m:\n\u001b[1;32m   1714\u001b[0m         arr \u001b[38;5;241m=\u001b[39m blk\u001b[38;5;241m.\u001b[39mget_values(dtype)\n\u001b[0;32m-> 1715\u001b[0m     result[rl\u001b[38;5;241m.\u001b[39mindexer] \u001b[38;5;241m=\u001b[39m arr\n\u001b[1;32m   1716\u001b[0m     itemmask[rl\u001b[38;5;241m.\u001b[39mindexer] \u001b[38;5;241m=\u001b[39m \u001b[38;5;241m1\u001b[39m\n\u001b[1;32m   1718\u001b[0m \u001b[38;5;28;01mif\u001b[39;00m \u001b[38;5;129;01mnot\u001b[39;00m itemmask\u001b[38;5;241m.\u001b[39mall():\n",
      "\u001b[0;31mValueError\u001b[0m: could not convert string to float: 'I ASKED HER TO BE MY GIRLFRIEND...'"
     ]
    }
   ],
   "source": [
    "df.corr()"
   ]
  },
  {
   "cell_type": "code",
   "execution_count": 269,
   "id": "e9ed136f",
   "metadata": {},
   "outputs": [],
   "source": [
    "# Export the processed dataframe to a CSV file\n",
    "processed_file_path = 'processed_youtube_data.csv'\n",
    "df.to_csv(processed_file_path, index=False)"
   ]
  },
  {
   "cell_type": "code",
   "execution_count": 270,
   "id": "99db2710",
   "metadata": {},
   "outputs": [],
   "source": [
    "from pyspark.sql import SparkSession\n",
    "from pyspark.sql.functions import col\n",
    "from pyspark.sql.functions import explode, split, col\n",
    "from pyspark.ml.feature import StopWordsRemover, Tokenizer, HashingTF, IDF, StringIndexer\n",
    "from pyspark.ml.classification import NaiveBayes\n",
    "from pyspark.sql.types import StringType\n",
    "from pyspark.ml.feature import VectorAssembler, StringIndexer\n",
    "from pyspark.ml.classification import RandomForestClassifier\n",
    "from pyspark.ml.evaluation import MulticlassClassificationEvaluator\n",
    "from pyspark.ml import Pipeline\n",
    "import time\n"
   ]
  },
  {
   "cell_type": "code",
   "execution_count": 271,
   "id": "fd0e711a",
   "metadata": {},
   "outputs": [],
   "source": [
    "# Initialize Spark session\n",
    "spark = SparkSession.builder \\\n",
    "    .appName(\"YouTube Trending Videos Analysis\") \\\n",
    "    .getOrCreate()"
   ]
  },
  {
   "cell_type": "code",
   "execution_count": 272,
   "id": "08e296a8",
   "metadata": {},
   "outputs": [
    {
     "name": "stderr",
     "output_type": "stream",
     "text": [
      "                                                                                \r"
     ]
    }
   ],
   "source": [
    "# Load cleaned dataset\n",
    "data = spark.read.csv('processed_youtube_data.csv', header=True, inferSchema=True)"
   ]
  },
  {
   "cell_type": "code",
   "execution_count": 273,
   "id": "292ac253",
   "metadata": {},
   "outputs": [],
   "source": [
    "data = data.filter(col(\"title_cl\").isNotNull() & (col(\"title_cl\") != \"\"))"
   ]
  },
  {
   "cell_type": "code",
   "execution_count": 274,
   "id": "21359e1c-7dbf-4793-aa82-82b5fbe05daf",
   "metadata": {},
   "outputs": [
    {
     "name": "stderr",
     "output_type": "stream",
     "text": [
      "[Stage 125:>                                                        (0 + 8) / 8]\r"
     ]
    },
    {
     "name": "stdout",
     "output_type": "stream",
     "text": [
      "No null or empty values found in 'title_cl'.\n"
     ]
    },
    {
     "name": "stderr",
     "output_type": "stream",
     "text": [
      "                                                                                \r"
     ]
    }
   ],
   "source": [
    "# Check for null values in any column\n",
    "null_count = data.filter(data[\"title_cl\"].isNull() | (col(\"title_cl\") == \"\")).count()\n",
    "\n",
    "if null_count > 0:\n",
    "    print(f\"There are {null_count} rows with null or empty values in 'title_cl'.\")\n",
    "else:\n",
    "    print(\"No null or empty values found in 'title_cl'.\")"
   ]
  },
  {
   "cell_type": "code",
   "execution_count": 275,
   "id": "bd2da5c9-6899-47a8-b16b-7a0220b930b1",
   "metadata": {},
   "outputs": [],
   "source": [
    "data = data.dropna()"
   ]
  },
  {
   "cell_type": "code",
   "execution_count": 276,
   "id": "3e6df370",
   "metadata": {},
   "outputs": [],
   "source": [
    "words_df = data.select(split(col(\"title_cl\"), \" \").alias(\"words\"))"
   ]
  },
  {
   "cell_type": "code",
   "execution_count": 277,
   "id": "5b05e187",
   "metadata": {},
   "outputs": [
    {
     "name": "stdout",
     "output_type": "stream",
     "text": [
      "+--------------------+\n",
      "|               words|\n",
      "+--------------------+\n",
      "|[apex, legends, s...|\n",
      "|[left, youtube, m...|\n",
      "|[ultimate, diy, h...|\n",
      "|[havent, honest, ...|\n",
      "|[first, family, i...|\n",
      "+--------------------+\n",
      "only showing top 5 rows\n",
      "\n"
     ]
    }
   ],
   "source": [
    "words_df.show(5)"
   ]
  },
  {
   "cell_type": "code",
   "execution_count": 278,
   "id": "25e3d3bc",
   "metadata": {},
   "outputs": [],
   "source": [
    "remover = StopWordsRemover(inputCol=\"words\", outputCol=\"filtered_words\")\n",
    "pipeline = Pipeline(stages=[remover])\n",
    "cleaned_words_df = pipeline.fit(words_df).transform(words_df)"
   ]
  },
  {
   "cell_type": "code",
   "execution_count": 279,
   "id": "688372af",
   "metadata": {},
   "outputs": [
    {
     "name": "stdout",
     "output_type": "stream",
     "text": [
      "+--------------------+--------------------+\n",
      "|               words|      filtered_words|\n",
      "+--------------------+--------------------+\n",
      "|[apex, legends, s...|[apex, legends, s...|\n",
      "|[left, youtube, m...|[left, youtube, m...|\n",
      "|[ultimate, diy, h...|[ultimate, diy, h...|\n",
      "|[havent, honest, ...|[havent, honest, ...|\n",
      "|[first, family, i...|[first, family, i...|\n",
      "+--------------------+--------------------+\n",
      "only showing top 5 rows\n",
      "\n"
     ]
    }
   ],
   "source": [
    "cleaned_words_df.show(5)"
   ]
  },
  {
   "cell_type": "code",
   "execution_count": 280,
   "id": "d6e717c4",
   "metadata": {},
   "outputs": [],
   "source": [
    "exploded_df = cleaned_words_df.select(explode(col(\"filtered_words\")).alias(\"word\"))"
   ]
  },
  {
   "cell_type": "code",
   "execution_count": 281,
   "id": "a6a7e300",
   "metadata": {},
   "outputs": [
    {
     "name": "stdout",
     "output_type": "stream",
     "text": [
      "+--------+\n",
      "|    word|\n",
      "+--------+\n",
      "|    apex|\n",
      "| legends|\n",
      "| stories|\n",
      "|outlands|\n",
      "|    left|\n",
      "| youtube|\n",
      "|   month|\n",
      "|happened|\n",
      "|ultimate|\n",
      "|     diy|\n",
      "|    home|\n",
      "|   movie|\n",
      "| theater|\n",
      "| labrant|\n",
      "|  family|\n",
      "|  havent|\n",
      "|  honest|\n",
      "|  injury|\n",
      "|   heres|\n",
      "|   truth|\n",
      "+--------+\n",
      "only showing top 20 rows\n",
      "\n"
     ]
    }
   ],
   "source": [
    "exploded_df.show(20)"
   ]
  },
  {
   "cell_type": "code",
   "execution_count": 282,
   "id": "ea3294ad",
   "metadata": {},
   "outputs": [],
   "source": [
    "top_words = exploded_df.limit(20).collect()"
   ]
  },
  {
   "cell_type": "code",
   "execution_count": 283,
   "id": "a0d46898",
   "metadata": {},
   "outputs": [
    {
     "name": "stdout",
     "output_type": "stream",
     "text": [
      "apex\n",
      "legends\n",
      "stories\n",
      "outlands\n",
      "left\n",
      "youtube\n",
      "month\n",
      "happened\n",
      "ultimate\n",
      "diy\n",
      "home\n",
      "movie\n",
      "theater\n",
      "labrant\n",
      "family\n",
      "havent\n",
      "honest\n",
      "injury\n",
      "heres\n",
      "truth\n"
     ]
    }
   ],
   "source": [
    "# Print the collected words\n",
    "for row in top_words:\n",
    "    print(row['word'])"
   ]
  },
  {
   "cell_type": "code",
   "execution_count": 284,
   "id": "91763926",
   "metadata": {},
   "outputs": [],
   "source": [
    "# Machine Learning Analysis for Category Prediction\n",
    "# Select relevant columns and drop rows with null values in these columns\n",
    "model_data = data.select(\"title_cl\", \"category_title\").dropna()"
   ]
  },
  {
   "cell_type": "code",
   "execution_count": 285,
   "id": "09d1bf2d",
   "metadata": {},
   "outputs": [],
   "source": [
    "# Split the data into training and test sets\n",
    "train_data, test_data = model_data.randomSplit([0.8, 0.2], seed=42)"
   ]
  },
  {
   "cell_type": "code",
   "execution_count": 286,
   "id": "f3cd6c45",
   "metadata": {},
   "outputs": [],
   "source": [
    "# Tokenize the titles\n",
    "tokenizer = Tokenizer(inputCol=\"title_cl\", outputCol=\"words\")"
   ]
  },
  {
   "cell_type": "code",
   "execution_count": 287,
   "id": "9f207cca",
   "metadata": {},
   "outputs": [],
   "source": [
    "# Compute term frequencies\n",
    "hashingTF = HashingTF(inputCol=\"words\", outputCol=\"rawFeatures\", numFeatures=10000)"
   ]
  },
  {
   "cell_type": "code",
   "execution_count": 288,
   "id": "028e04d2",
   "metadata": {},
   "outputs": [],
   "source": [
    "# Compute the IDF (Inverse Document Frequency)\n",
    "idf = IDF(inputCol=\"rawFeatures\", outputCol=\"features\")"
   ]
  },
  {
   "cell_type": "code",
   "execution_count": 289,
   "id": "ca3c19b4",
   "metadata": {},
   "outputs": [],
   "source": [
    "# Index the labels (categories)\n",
    "indexer = StringIndexer(inputCol=\"category_title\", outputCol=\"label\")"
   ]
  },
  {
   "cell_type": "code",
   "execution_count": 290,
   "id": "33bbf9f3",
   "metadata": {},
   "outputs": [],
   "source": [
    "# Define the Naive Bayes classifier\n",
    "nb = NaiveBayes(modelType=\"multinomial\")"
   ]
  },
  {
   "cell_type": "code",
   "execution_count": 291,
   "id": "c10fe886",
   "metadata": {},
   "outputs": [],
   "source": [
    "# Create a pipeline\n",
    "pipeline = Pipeline(stages=[tokenizer, hashingTF, idf, indexer, nb])"
   ]
  },
  {
   "cell_type": "code",
   "execution_count": 292,
   "id": "09bf8e61",
   "metadata": {},
   "outputs": [
    {
     "name": "stderr",
     "output_type": "stream",
     "text": [
      "                                                                                \r"
     ]
    }
   ],
   "source": [
    "# Train the model\n",
    "model = pipeline.fit(train_data)"
   ]
  },
  {
   "cell_type": "code",
   "execution_count": 293,
   "id": "2a9f0333",
   "metadata": {},
   "outputs": [],
   "source": [
    "# Make predictions on the test data\n",
    "predictions = model.transform(test_data)"
   ]
  },
  {
   "cell_type": "code",
   "execution_count": 294,
   "id": "0098d102",
   "metadata": {},
   "outputs": [
    {
     "name": "stderr",
     "output_type": "stream",
     "text": [
      "24/06/25 18:07:47 WARN DAGScheduler: Broadcasting large task binary with size 4.4 MiB\n",
      "[Stage 140:==========================================>              (6 + 2) / 8]\r"
     ]
    },
    {
     "name": "stdout",
     "output_type": "stream",
     "text": [
      "Test set accuracy = 0.74\n"
     ]
    },
    {
     "name": "stderr",
     "output_type": "stream",
     "text": [
      "                                                                                \r"
     ]
    }
   ],
   "source": [
    "# Evaluate the model\n",
    "evaluator = MulticlassClassificationEvaluator(predictionCol=\"prediction\", labelCol=\"label\", metricName=\"accuracy\")\n",
    "accuracy = evaluator.evaluate(predictions)\n",
    "\n",
    "print(f\"Test set accuracy = {accuracy:.2f}\")"
   ]
  },
  {
   "cell_type": "code",
   "execution_count": 295,
   "id": "d92f8a19",
   "metadata": {},
   "outputs": [],
   "source": [
    "# Select specific columns to print (adjust column names as needed)\n",
    "#predictions.select(\"features\", \"label\", \"prediction\").show()\n",
    "\n",
    "# Alternatively, collect specific columns and print them\n",
    "#predictions_list = predictions.select(\"features\", \"label\", \"prediction\").collect()\n",
    "#for row in predictions_list:\n",
    "   # print(f\"Features: {row['features']}, Label: {row['label']}, Prediction: {row['prediction']}\")"
   ]
  },
  {
   "cell_type": "code",
   "execution_count": 296,
   "id": "4d33dfd3-bc75-4964-bd45-58870dbc03bc",
   "metadata": {},
   "outputs": [],
   "source": [
    "###RandomnForrest in Pyspark"
   ]
  },
  {
   "cell_type": "code",
   "execution_count": 297,
   "id": "e98bd21e-dab9-4246-8d67-49a73aedb476",
   "metadata": {},
   "outputs": [],
   "source": [
    "###PySpark and Time Capture####"
   ]
  },
  {
   "cell_type": "code",
   "execution_count": 298,
   "id": "910d0214-d11c-42c6-8bc7-f25cf93eedbf",
   "metadata": {},
   "outputs": [],
   "source": [
    "# Data preprocessing (if necessary)\n",
    "data = data.withColumn(\"view_count\", col(\"view_count\").cast(\"double\"))\n",
    "data = data.withColumn(\"likes\", col(\"likes\").cast(\"double\"))\n",
    "data = data.withColumn(\"categoryId\", col(\"categoryId\").cast(\"double\"))"
   ]
  },
  {
   "cell_type": "code",
   "execution_count": 299,
   "id": "90babc13-fc64-4dbf-b4dd-f407524f18ce",
   "metadata": {},
   "outputs": [],
   "source": [
    "# Handle null values\n",
    "data = data.na.fill(0, subset=[\"view_count\", \"likes\", \"categoryId\"])\n"
   ]
  },
  {
   "cell_type": "code",
   "execution_count": 300,
   "id": "0f0adc70-e0df-49db-ae07-2c04c895f58b",
   "metadata": {},
   "outputs": [
    {
     "name": "stderr",
     "output_type": "stream",
     "text": [
      "                                                                                \r"
     ]
    }
   ],
   "source": [
    "#StringIndexer for the label column\n",
    "label_indexer = StringIndexer(inputCol=\"category_title\", outputCol=\"label\").fit(data)"
   ]
  },
  {
   "cell_type": "code",
   "execution_count": 301,
   "id": "c3307a07-5a3f-49fb-9908-a34cecf72206",
   "metadata": {},
   "outputs": [],
   "source": [
    "# Assemble features into a feature vector\n",
    "assembler = VectorAssembler(inputCols=[\"view_count\", \"likes\", \"categoryId\"], outputCol=\"features\")"
   ]
  },
  {
   "cell_type": "code",
   "execution_count": 302,
   "id": "7f9578ed-9681-4619-bdfe-577193c8752d",
   "metadata": {},
   "outputs": [],
   "source": [
    "# Split the data into training and test sets\n",
    "train_data2, test_data2 = data.randomSplit([0.8, 0.2], seed=1234)"
   ]
  },
  {
   "cell_type": "code",
   "execution_count": 303,
   "id": "5ebd9bff-2925-4b7e-b6c4-9ba2f624f398",
   "metadata": {},
   "outputs": [],
   "source": [
    "# Initialize the RandomForestClassifier\n",
    "ps_rf_classifier = RandomForestClassifier(labelCol=\"label\", featuresCol=\"features\")"
   ]
  },
  {
   "cell_type": "code",
   "execution_count": 304,
   "id": "7e0f93e8-82bc-4779-880d-1bf1eb1a375a",
   "metadata": {},
   "outputs": [],
   "source": [
    "# Create a pipeline\n",
    "pipeline = Pipeline(stages=[label_indexer, assembler, ps_rf_classifier])"
   ]
  },
  {
   "cell_type": "code",
   "execution_count": 305,
   "id": "3542d662-6054-4e2c-b01d-af9aa1b89832",
   "metadata": {},
   "outputs": [],
   "source": [
    "# Start the timer\n",
    "start_time = time.time()"
   ]
  },
  {
   "cell_type": "code",
   "execution_count": 306,
   "id": "4d82c7cb-e3d8-4401-9222-6893259a039c",
   "metadata": {},
   "outputs": [
    {
     "name": "stderr",
     "output_type": "stream",
     "text": [
      "                                                                                \r"
     ]
    }
   ],
   "source": [
    "# Train the model\n",
    "model2 = pipeline.fit(train_data2)"
   ]
  },
  {
   "cell_type": "code",
   "execution_count": 307,
   "id": "1ace1e2f-6a50-4946-bb77-6fa94b12f4a6",
   "metadata": {},
   "outputs": [],
   "source": [
    "# Make predictions\n",
    "predictions2 = model2.transform(test_data2)"
   ]
  },
  {
   "cell_type": "code",
   "execution_count": 308,
   "id": "96466697-0402-4529-895b-fb7d2e2c3795",
   "metadata": {},
   "outputs": [
    {
     "name": "stderr",
     "output_type": "stream",
     "text": [
      "                                                                                \r"
     ]
    },
    {
     "data": {
      "text/plain": [
       "0.9889917135426117"
      ]
     },
     "execution_count": 308,
     "metadata": {},
     "output_type": "execute_result"
    }
   ],
   "source": [
    "# Evaluate the model\n",
    "evaluator2 = MulticlassClassificationEvaluator(labelCol=\"label\", predictionCol=\"prediction\", metricName=\"accuracy\")\n",
    "accuracy2 = evaluator2.evaluate(predictions2)\n",
    "accuracy2"
   ]
  },
  {
   "cell_type": "code",
   "execution_count": 309,
   "id": "dda5a412-415d-41b8-be95-aec8bbb9c209",
   "metadata": {},
   "outputs": [
    {
     "name": "stdout",
     "output_type": "stream",
     "text": [
      "Training Time: 34.73774695396423 seconds\n"
     ]
    }
   ],
   "source": [
    "# Stop the timer\n",
    "Execution_time = time.time() - start_time\n",
    "print(f\"Training Time: {training_time} seconds\")"
   ]
  },
  {
   "cell_type": "code",
   "execution_count": 310,
   "id": "8b61bfea-1661-4ab9-806a-ed914266e082",
   "metadata": {},
   "outputs": [],
   "source": [
    "###Python and Time Capture####"
   ]
  },
  {
   "cell_type": "code",
   "execution_count": 311,
   "id": "28974a69-588e-49fc-b13d-87baf465d837",
   "metadata": {},
   "outputs": [],
   "source": [
    "####RandomForrest Classfier in Spark#####"
   ]
  },
  {
   "cell_type": "code",
   "execution_count": 312,
   "id": "e49fa39b-129c-4ace-879c-ce6b5372df3b",
   "metadata": {},
   "outputs": [],
   "source": [
    "from pyspark.sql import SparkSession\n",
    "from pyspark.ml.feature import StringIndexer, VectorAssembler\n",
    "from pyspark.ml.classification import RandomForestClassifier\n",
    "from pyspark.ml.evaluation import MulticlassClassificationEvaluator\n",
    "from sklearn.model_selection import train_test_split\n",
    "from sklearn.ensemble import RandomForestRegressor\n",
    "from sklearn.metrics import mean_squared_error, r2_score\n",
    "from sklearn.ensemble import RandomForestClassifier  \n",
    "from sklearn.feature_extraction.text import CountVectorizer\n",
    "from sklearn.metrics import accuracy_score, classification_report, confusion_matrix\n",
    "from sklearn.metrics import accuracy_score, roc_curve, auc\n"
   ]
  },
  {
   "cell_type": "code",
   "execution_count": 313,
   "id": "9067397e-9c18-477d-ace1-0e27d3578acf",
   "metadata": {
    "scrolled": true
   },
   "outputs": [
    {
     "data": {
      "text/html": [
       "<div>\n",
       "<style scoped>\n",
       "    .dataframe tbody tr th:only-of-type {\n",
       "        vertical-align: middle;\n",
       "    }\n",
       "\n",
       "    .dataframe tbody tr th {\n",
       "        vertical-align: top;\n",
       "    }\n",
       "\n",
       "    .dataframe thead th {\n",
       "        text-align: right;\n",
       "    }\n",
       "</style>\n",
       "<table border=\"1\" class=\"dataframe\">\n",
       "  <thead>\n",
       "    <tr style=\"text-align: right;\">\n",
       "      <th></th>\n",
       "      <th>title</th>\n",
       "      <th>publishedAt</th>\n",
       "      <th>channelId</th>\n",
       "      <th>channelTitle</th>\n",
       "      <th>categoryId</th>\n",
       "      <th>trending_date</th>\n",
       "      <th>tags</th>\n",
       "      <th>view_count</th>\n",
       "      <th>likes</th>\n",
       "      <th>dislikes</th>\n",
       "      <th>comment_count</th>\n",
       "      <th>comments_disabled</th>\n",
       "      <th>ratings_disabled</th>\n",
       "      <th>description</th>\n",
       "      <th>category_title</th>\n",
       "      <th>video_age</th>\n",
       "      <th>title_cl</th>\n",
       "    </tr>\n",
       "  </thead>\n",
       "  <tbody>\n",
       "    <tr>\n",
       "      <th>0</th>\n",
       "      <td>I ASKED HER TO BE MY GIRLFRIEND...</td>\n",
       "      <td>2020-08-11</td>\n",
       "      <td>UCvtRTOMP2TqYqu51xNrqAzg</td>\n",
       "      <td>Brawadis</td>\n",
       "      <td>22</td>\n",
       "      <td>2020-08-12</td>\n",
       "      <td>brawadis|prank|basketball|skits|ghost|funny vi...</td>\n",
       "      <td>1514614</td>\n",
       "      <td>156908</td>\n",
       "      <td>5855</td>\n",
       "      <td>35313</td>\n",
       "      <td>False</td>\n",
       "      <td>False</td>\n",
       "      <td>SUBSCRIBE to BRAWADIS ▶ http://bit.ly/Subscrib...</td>\n",
       "      <td>People &amp; Blogs</td>\n",
       "      <td>1</td>\n",
       "      <td>asked girlfriend</td>\n",
       "    </tr>\n",
       "    <tr>\n",
       "      <th>1</th>\n",
       "      <td>Apex Legends | Stories from the Outlands – “Th...</td>\n",
       "      <td>2020-08-11</td>\n",
       "      <td>UC0ZV6M2THA81QT9hrVWJG3A</td>\n",
       "      <td>Apex Legends</td>\n",
       "      <td>20</td>\n",
       "      <td>2020-08-12</td>\n",
       "      <td>Apex Legends|Apex Legends characters|new Apex ...</td>\n",
       "      <td>2381688</td>\n",
       "      <td>146739</td>\n",
       "      <td>2794</td>\n",
       "      <td>16549</td>\n",
       "      <td>False</td>\n",
       "      <td>False</td>\n",
       "      <td>While running her own modding shop, Ramya Pare...</td>\n",
       "      <td>Gaming</td>\n",
       "      <td>1</td>\n",
       "      <td>apex legends stories outlands</td>\n",
       "    </tr>\n",
       "    <tr>\n",
       "      <th>2</th>\n",
       "      <td>I left youtube for a month and THIS is what ha...</td>\n",
       "      <td>2020-08-11</td>\n",
       "      <td>UCYzPXprvl5Y-Sf0g4vX-m6g</td>\n",
       "      <td>jacksepticeye</td>\n",
       "      <td>24</td>\n",
       "      <td>2020-08-12</td>\n",
       "      <td>jacksepticeye|funny|funny meme|memes|jacksepti...</td>\n",
       "      <td>2038853</td>\n",
       "      <td>353787</td>\n",
       "      <td>2628</td>\n",
       "      <td>40221</td>\n",
       "      <td>False</td>\n",
       "      <td>False</td>\n",
       "      <td>I left youtube for a month and this is what ha...</td>\n",
       "      <td>Entertainment</td>\n",
       "      <td>1</td>\n",
       "      <td>left youtube month happened</td>\n",
       "    </tr>\n",
       "    <tr>\n",
       "      <th>3</th>\n",
       "      <td>XXL 2020 Freshman Class Revealed - Official An...</td>\n",
       "      <td>2020-08-11</td>\n",
       "      <td>UCbg_UMjlHJg_19SZckaKajg</td>\n",
       "      <td>XXL</td>\n",
       "      <td>10</td>\n",
       "      <td>2020-08-12</td>\n",
       "      <td>xxl freshman|xxl freshmen|2020 xxl freshman|20...</td>\n",
       "      <td>496771</td>\n",
       "      <td>23251</td>\n",
       "      <td>1856</td>\n",
       "      <td>7647</td>\n",
       "      <td>False</td>\n",
       "      <td>False</td>\n",
       "      <td>Subscribe to XXL → http://bit.ly/subscribe-xxl...</td>\n",
       "      <td>Music</td>\n",
       "      <td>1</td>\n",
       "      <td>xxl 2020 freshman class revealed official anno...</td>\n",
       "    </tr>\n",
       "    <tr>\n",
       "      <th>4</th>\n",
       "      <td>Ultimate DIY Home Movie Theater for The LaBran...</td>\n",
       "      <td>2020-08-11</td>\n",
       "      <td>UCDVPcEbVLQgLZX0Rt6jo34A</td>\n",
       "      <td>Mr. Kate</td>\n",
       "      <td>26</td>\n",
       "      <td>2020-08-12</td>\n",
       "      <td>The LaBrant Family|DIY|Interior Design|Makeove...</td>\n",
       "      <td>1123889</td>\n",
       "      <td>45802</td>\n",
       "      <td>964</td>\n",
       "      <td>2196</td>\n",
       "      <td>False</td>\n",
       "      <td>False</td>\n",
       "      <td>Transforming The LaBrant Family's empty white ...</td>\n",
       "      <td>Howto &amp; Style</td>\n",
       "      <td>1</td>\n",
       "      <td>ultimate diy home movie theater labrant family</td>\n",
       "    </tr>\n",
       "  </tbody>\n",
       "</table>\n",
       "</div>"
      ],
      "text/plain": [
       "                                               title publishedAt  \\\n",
       "0                 I ASKED HER TO BE MY GIRLFRIEND...  2020-08-11   \n",
       "1  Apex Legends | Stories from the Outlands – “Th...  2020-08-11   \n",
       "2  I left youtube for a month and THIS is what ha...  2020-08-11   \n",
       "3  XXL 2020 Freshman Class Revealed - Official An...  2020-08-11   \n",
       "4  Ultimate DIY Home Movie Theater for The LaBran...  2020-08-11   \n",
       "\n",
       "                  channelId   channelTitle  categoryId trending_date  \\\n",
       "0  UCvtRTOMP2TqYqu51xNrqAzg       Brawadis          22    2020-08-12   \n",
       "1  UC0ZV6M2THA81QT9hrVWJG3A   Apex Legends          20    2020-08-12   \n",
       "2  UCYzPXprvl5Y-Sf0g4vX-m6g  jacksepticeye          24    2020-08-12   \n",
       "3  UCbg_UMjlHJg_19SZckaKajg            XXL          10    2020-08-12   \n",
       "4  UCDVPcEbVLQgLZX0Rt6jo34A       Mr. Kate          26    2020-08-12   \n",
       "\n",
       "                                                tags  view_count   likes  \\\n",
       "0  brawadis|prank|basketball|skits|ghost|funny vi...     1514614  156908   \n",
       "1  Apex Legends|Apex Legends characters|new Apex ...     2381688  146739   \n",
       "2  jacksepticeye|funny|funny meme|memes|jacksepti...     2038853  353787   \n",
       "3  xxl freshman|xxl freshmen|2020 xxl freshman|20...      496771   23251   \n",
       "4  The LaBrant Family|DIY|Interior Design|Makeove...     1123889   45802   \n",
       "\n",
       "   dislikes  comment_count  comments_disabled  ratings_disabled  \\\n",
       "0      5855          35313              False             False   \n",
       "1      2794          16549              False             False   \n",
       "2      2628          40221              False             False   \n",
       "3      1856           7647              False             False   \n",
       "4       964           2196              False             False   \n",
       "\n",
       "                                         description  category_title  \\\n",
       "0  SUBSCRIBE to BRAWADIS ▶ http://bit.ly/Subscrib...  People & Blogs   \n",
       "1  While running her own modding shop, Ramya Pare...          Gaming   \n",
       "2  I left youtube for a month and this is what ha...   Entertainment   \n",
       "3  Subscribe to XXL → http://bit.ly/subscribe-xxl...           Music   \n",
       "4  Transforming The LaBrant Family's empty white ...   Howto & Style   \n",
       "\n",
       "   video_age                                           title_cl  \n",
       "0          1                                   asked girlfriend  \n",
       "1          1                      apex legends stories outlands  \n",
       "2          1                        left youtube month happened  \n",
       "3          1  xxl 2020 freshman class revealed official anno...  \n",
       "4          1     ultimate diy home movie theater labrant family  "
      ]
     },
     "execution_count": 313,
     "metadata": {},
     "output_type": "execute_result"
    }
   ],
   "source": [
    "df.head(5)"
   ]
  },
  {
   "cell_type": "code",
   "execution_count": 314,
   "id": "22ba6e1d-2bad-42e5-a880-df2304fe4ad1",
   "metadata": {},
   "outputs": [],
   "source": [
    "# Selecting relevant columns for the model\n",
    "features = [\"view_count\", \"likes\", \"categoryId\"]\n",
    "target = 'category_title' #Predicting video category"
   ]
  },
  {
   "cell_type": "code",
   "execution_count": 315,
   "id": "93e7791c-5304-4614-93c1-e10aec99893f",
   "metadata": {},
   "outputs": [],
   "source": [
    "X = df[features]\n",
    "y = df[target]"
   ]
  },
  {
   "cell_type": "code",
   "execution_count": 316,
   "id": "241805e6-0b00-4f5a-97be-92fc8d52b3b7",
   "metadata": {},
   "outputs": [],
   "source": [
    "X_train, X_test, y_train, y_test = train_test_split(X, y, test_size=0.2, random_state=42)"
   ]
  },
  {
   "cell_type": "code",
   "execution_count": 317,
   "id": "5598baeb-ff1d-47c2-83b8-8527ff7c8f85",
   "metadata": {},
   "outputs": [],
   "source": [
    "rf_classifier = RandomForestClassifier(random_state=42)"
   ]
  },
  {
   "cell_type": "code",
   "execution_count": 318,
   "id": "1a63cc83-9f27-4508-9a44-ac8cedadb92c",
   "metadata": {},
   "outputs": [],
   "source": [
    "#Code to captutre time\n",
    "\n",
    "start_time = time.time()\n",
    "rf_classifier.fit(X_train, y_train)\n",
    "end_time = time.time()\n"
   ]
  },
  {
   "cell_type": "code",
   "execution_count": 319,
   "id": "cd4fd616-b2c3-4ffc-a5ce-b4bd1e0ee819",
   "metadata": {},
   "outputs": [
    {
     "data": {
      "text/html": [
       "<style>#sk-container-id-3 {color: black;background-color: white;}#sk-container-id-3 pre{padding: 0;}#sk-container-id-3 div.sk-toggleable {background-color: white;}#sk-container-id-3 label.sk-toggleable__label {cursor: pointer;display: block;width: 100%;margin-bottom: 0;padding: 0.3em;box-sizing: border-box;text-align: center;}#sk-container-id-3 label.sk-toggleable__label-arrow:before {content: \"▸\";float: left;margin-right: 0.25em;color: #696969;}#sk-container-id-3 label.sk-toggleable__label-arrow:hover:before {color: black;}#sk-container-id-3 div.sk-estimator:hover label.sk-toggleable__label-arrow:before {color: black;}#sk-container-id-3 div.sk-toggleable__content {max-height: 0;max-width: 0;overflow: hidden;text-align: left;background-color: #f0f8ff;}#sk-container-id-3 div.sk-toggleable__content pre {margin: 0.2em;color: black;border-radius: 0.25em;background-color: #f0f8ff;}#sk-container-id-3 input.sk-toggleable__control:checked~div.sk-toggleable__content {max-height: 200px;max-width: 100%;overflow: auto;}#sk-container-id-3 input.sk-toggleable__control:checked~label.sk-toggleable__label-arrow:before {content: \"▾\";}#sk-container-id-3 div.sk-estimator input.sk-toggleable__control:checked~label.sk-toggleable__label {background-color: #d4ebff;}#sk-container-id-3 div.sk-label input.sk-toggleable__control:checked~label.sk-toggleable__label {background-color: #d4ebff;}#sk-container-id-3 input.sk-hidden--visually {border: 0;clip: rect(1px 1px 1px 1px);clip: rect(1px, 1px, 1px, 1px);height: 1px;margin: -1px;overflow: hidden;padding: 0;position: absolute;width: 1px;}#sk-container-id-3 div.sk-estimator {font-family: monospace;background-color: #f0f8ff;border: 1px dotted black;border-radius: 0.25em;box-sizing: border-box;margin-bottom: 0.5em;}#sk-container-id-3 div.sk-estimator:hover {background-color: #d4ebff;}#sk-container-id-3 div.sk-parallel-item::after {content: \"\";width: 100%;border-bottom: 1px solid gray;flex-grow: 1;}#sk-container-id-3 div.sk-label:hover label.sk-toggleable__label {background-color: #d4ebff;}#sk-container-id-3 div.sk-serial::before {content: \"\";position: absolute;border-left: 1px solid gray;box-sizing: border-box;top: 0;bottom: 0;left: 50%;z-index: 0;}#sk-container-id-3 div.sk-serial {display: flex;flex-direction: column;align-items: center;background-color: white;padding-right: 0.2em;padding-left: 0.2em;position: relative;}#sk-container-id-3 div.sk-item {position: relative;z-index: 1;}#sk-container-id-3 div.sk-parallel {display: flex;align-items: stretch;justify-content: center;background-color: white;position: relative;}#sk-container-id-3 div.sk-item::before, #sk-container-id-3 div.sk-parallel-item::before {content: \"\";position: absolute;border-left: 1px solid gray;box-sizing: border-box;top: 0;bottom: 0;left: 50%;z-index: -1;}#sk-container-id-3 div.sk-parallel-item {display: flex;flex-direction: column;z-index: 1;position: relative;background-color: white;}#sk-container-id-3 div.sk-parallel-item:first-child::after {align-self: flex-end;width: 50%;}#sk-container-id-3 div.sk-parallel-item:last-child::after {align-self: flex-start;width: 50%;}#sk-container-id-3 div.sk-parallel-item:only-child::after {width: 0;}#sk-container-id-3 div.sk-dashed-wrapped {border: 1px dashed gray;margin: 0 0.4em 0.5em 0.4em;box-sizing: border-box;padding-bottom: 0.4em;background-color: white;}#sk-container-id-3 div.sk-label label {font-family: monospace;font-weight: bold;display: inline-block;line-height: 1.2em;}#sk-container-id-3 div.sk-label-container {text-align: center;}#sk-container-id-3 div.sk-container {/* jupyter's `normalize.less` sets `[hidden] { display: none; }` but bootstrap.min.css set `[hidden] { display: none !important; }` so we also need the `!important` here to be able to override the default hidden behavior on the sphinx rendered scikit-learn.org. See: https://github.com/scikit-learn/scikit-learn/issues/21755 */display: inline-block !important;position: relative;}#sk-container-id-3 div.sk-text-repr-fallback {display: none;}</style><div id=\"sk-container-id-3\" class=\"sk-top-container\"><div class=\"sk-text-repr-fallback\"><pre>RandomForestClassifier(random_state=42)</pre><b>In a Jupyter environment, please rerun this cell to show the HTML representation or trust the notebook. <br />On GitHub, the HTML representation is unable to render, please try loading this page with nbviewer.org.</b></div><div class=\"sk-container\" hidden><div class=\"sk-item\"><div class=\"sk-estimator sk-toggleable\"><input class=\"sk-toggleable__control sk-hidden--visually\" id=\"sk-estimator-id-3\" type=\"checkbox\" checked><label for=\"sk-estimator-id-3\" class=\"sk-toggleable__label sk-toggleable__label-arrow\">RandomForestClassifier</label><div class=\"sk-toggleable__content\"><pre>RandomForestClassifier(random_state=42)</pre></div></div></div></div></div>"
      ],
      "text/plain": [
       "RandomForestClassifier(random_state=42)"
      ]
     },
     "execution_count": 319,
     "metadata": {},
     "output_type": "execute_result"
    }
   ],
   "source": [
    "rf_classifier.fit(X_train, y_train)"
   ]
  },
  {
   "cell_type": "code",
   "execution_count": 320,
   "id": "90fc6499-8b7d-4248-abb8-f5ee04f8d5fe",
   "metadata": {},
   "outputs": [],
   "source": [
    "predictions = rf_classifier.predict(X_test)\n"
   ]
  },
  {
   "cell_type": "code",
   "execution_count": 321,
   "id": "267d6781-155b-49ae-8fa7-1eaa9b52615f",
   "metadata": {},
   "outputs": [
    {
     "data": {
      "text/plain": [
       "0.999735089312746"
      ]
     },
     "execution_count": 321,
     "metadata": {},
     "output_type": "execute_result"
    }
   ],
   "source": [
    "accuracy = accuracy_score(y_test, predictions)\n",
    "accuracy"
   ]
  },
  {
   "cell_type": "code",
   "execution_count": 322,
   "id": "afcf554f-a179-49f8-a4c9-fcfa5826c1f2",
   "metadata": {},
   "outputs": [
    {
     "name": "stdout",
     "output_type": "stream",
     "text": [
      "Execution Time: 20.990861892700195\n"
     ]
    }
   ],
   "source": [
    "# Record the time taken by the model to run\n",
    "execution_time = end_time - start_time\n",
    "print(\"Execution Time:\", execution_time)"
   ]
  },
  {
   "cell_type": "code",
   "execution_count": null,
   "id": "f83ac103-8734-494f-9e6c-a511535a7270",
   "metadata": {},
   "outputs": [],
   "source": []
  },
  {
   "cell_type": "code",
   "execution_count": null,
   "id": "b1ec0390-ca30-4d63-87cc-db2b0a11cb60",
   "metadata": {},
   "outputs": [],
   "source": []
  },
  {
   "cell_type": "code",
   "execution_count": null,
   "id": "ed0b608d-fae4-4175-89fc-db6008c22f33",
   "metadata": {},
   "outputs": [],
   "source": []
  }
 ],
 "metadata": {
  "kernelspec": {
   "display_name": "Python 3 (ipykernel)",
   "language": "python",
   "name": "python3"
  },
  "language_info": {
   "codemirror_mode": {
    "name": "ipython",
    "version": 3
   },
   "file_extension": ".py",
   "mimetype": "text/x-python",
   "name": "python",
   "nbconvert_exporter": "python",
   "pygments_lexer": "ipython3",
   "version": "3.11.7"
  }
 },
 "nbformat": 4,
 "nbformat_minor": 5
}
